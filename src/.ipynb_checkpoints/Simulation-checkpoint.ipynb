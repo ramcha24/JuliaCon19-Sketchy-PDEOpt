{
 "cells": [
  {
   "cell_type": "code",
   "execution_count": 1,
   "metadata": {
    "collapsed": true
   },
   "outputs": [],
   "source": [
    "type parameters\n",
    "    # Parameters.\n",
    "    nX :: Int # Number of spatial mesh points\n",
    "    nT :: Int # Number of timesteps\n",
    "    theta :: Float64 # time-stepping parameter\n",
    "    gamma :: Float64 # Robin's coefficient\n",
    "    alpha :: Float64 # Control Penalty \n",
    "    \n",
    "    dx :: Float64 # Difference between any two mesh nodes, (= h)\n",
    "    x :: Array{Float64,1} # Mesh nodes. \n",
    "    dt :: Float64 # Difference between any two time steps\n",
    "    t :: Array{Float64,1} # Time steps \n",
    "    \n",
    "    u0 :: Array{Float64,1} # State at time 0.\n",
    "    \n",
    "    z0 :: Array{Float64,2} # Initial guess for Control\n",
    "    \n",
    "    w :: Array{Float64,2} # Desired state.\n",
    "    \n",
    "    M :: SymTridiagonal{Float64} # Mass Matrix\n",
    "    A :: SymTridiagonal{Float64} # Stiffness Matrix \n",
    "    B :: SparseMatrixCSC{Float64,Int64} # Control Operator\n",
    "    R :: Array{Float64,2} # Control Penalty Matrix\n",
    "    \n",
    "    G :: SymTridiagonal{Float64} \n",
    "    H :: SymTridiagonal{Float64}\n",
    "    \n",
    "    function parameters(nX = 256, nT = Int(5e2), theta = 0.5, gamma = 1e-1, alpha = 1e-4)\n",
    "        dx = 1/(nX -1)\n",
    "        \n",
    "        x = Array(linspace(0,1,nX))\n",
    "        t = Array(linspace(0,1,nT))\n",
    "        \n",
    "        dt = 1/(nT -1) \n",
    "        \n",
    "        u0 = sin(pi*x)  \n",
    "    \n",
    "        z0 = zeros(2,nT)\n",
    "    \n",
    "        w = zeros(nX, nT)  \n",
    "\n",
    "        for i in 1:nT\n",
    "            w[:,i] = sin(2*pi*(t[i] + x))\n",
    "           # l = w[:,i]\n",
    "           # println(\"wi norm is $(norm(l)^2)\")\n",
    "        end \n",
    "        \n",
    "        M,A,B,R = buildFEM(nX,gamma)\n",
    "    \n",
    "        G = M + theta*dt*A\n",
    "        H = M - (1-theta)*dt*A\n",
    "        \n",
    "        new(nX,nT,theta,gamma,alpha,dx,x,dt,t,u0,z0,w,M,A,B,R,G,H)\n",
    "    end \n",
    "end "
   ]
  },
  {
   "cell_type": "code",
   "execution_count": 2,
   "metadata": {},
   "outputs": [
    {
     "data": {
      "text/plain": [
       "buildFEM (generic function with 1 method)"
      ]
     },
     "execution_count": 2,
     "metadata": {},
     "output_type": "execute_result"
    }
   ],
   "source": [
    "function buildFEM(n::Int, gamma::Float64)\n",
    "    h = 1/(n-1)\n",
    "\n",
    "    o = h/6*ones(n-1)\n",
    "    d = 4*h/6*ones(n)\n",
    "    d[1]   = 2*h/6\n",
    "    d[n] = 2*h/6\n",
    "    M = SymTridiagonal(d,o)\n",
    "    \n",
    "    o = -1/h*ones(n-1)\n",
    "    d = 2/h*ones(n)\n",
    "    d[1]   = 1/h + gamma\n",
    "    d[n] = 1/h + gamma\n",
    "    A = SymTridiagonal(d,o)\n",
    "\n",
    "    B = sparse([1,n],[1,2],[gamma,gamma])\n",
    "    \n",
    "    R = speye(2,2)\n",
    "    \n",
    "    return M,A,B,R\n",
    "end "
   ]
  },
  {
   "cell_type": "code",
   "execution_count": 3,
   "metadata": {},
   "outputs": [
    {
     "data": {
      "text/plain": [
       "solve_state! (generic function with 1 method)"
      ]
     },
     "execution_count": 3,
     "metadata": {},
     "output_type": "execute_result"
    }
   ],
   "source": [
    "function solve_state!(Z::Array{Float64,2}, U::Array{Float64,2}, p::parameters)\n",
    "    nT = p.nT\n",
    "    nX = p.nX\n",
    "    dt = p.dt\n",
    "    theta = p.theta\n",
    "\n",
    "    u0 = p.u0\n",
    "    \n",
    "    B = p.B\n",
    "    G = p.B\n",
    "    H = p.H\n",
    "    \n",
    "    lu = lufact(full(p.G))\n",
    "    \n",
    "    U[:,1] = u0\n",
    "    \n",
    "    for i in 1:nT-1\n",
    "        Y = H*U[:,i] + dt*B*( theta*Z[:,i+1] + (1-theta)*Z[:,i] ) \n",
    "        U[:,i+1] = lu\\Y\n",
    "    end\n",
    "end "
   ]
  },
  {
   "cell_type": "code",
   "execution_count": 4,
   "metadata": {},
   "outputs": [
    {
     "data": {
      "text/plain": [
       "evaluate_objective (generic function with 1 method)"
      ]
     },
     "execution_count": 4,
     "metadata": {},
     "output_type": "execute_result"
    }
   ],
   "source": [
    "function evaluate_objective(Z::Array{Float64,2}, U::Array{Float64,2}, p::parameters)\n",
    "    M  = p.M\n",
    "    R  = p.R\n",
    "    w  = p.w\n",
    "    nT = p.nT\n",
    "    nX = p.nX\n",
    "    alpha = p.alpha\n",
    "    theta = p.theta\n",
    "    dt = p.dt\n",
    "    diff = U-w\n",
    "    \n",
    "    #println(\"diff norm is $(norm(diff)^2)\\n\")\n",
    "    \n",
    "    val = (1-theta)*( diff[:,1]'*M*diff[:,1] + alpha*Z[:,1]'*R*Z[:,1] )\n",
    "    \n",
    "    val += theta*( diff[:,nT]'*M*diff[:,nT] + alpha*Z[:,nT]'*R*Z[:,nT] )\n",
    "    \n",
    "    for i in 2:nT-1\n",
    "        val += diff[:,i]'*M*diff[:,i] + alpha*Z[:,i]'*R*Z[:,i]\n",
    "    end\n",
    "    \n",
    "    val = 0.5*dt*val\n",
    "\n",
    "    return val[1]+1\n",
    "end "
   ]
  },
  {
   "cell_type": "code",
   "execution_count": 5,
   "metadata": {},
   "outputs": [
    {
     "data": {
      "text/plain": [
       "evaluate_gradient! (generic function with 1 method)"
      ]
     },
     "execution_count": 5,
     "metadata": {},
     "output_type": "execute_result"
    }
   ],
   "source": [
    "function evaluate_gradient!(Z::Array{Float64,2}, U::Array{Float64,2}, grad::Array{Float64,2}, p::parameters)\n",
    "    nT = p.nT\n",
    "    nX = p.nX\n",
    "    alpha = p.alpha\n",
    "    theta = p.theta\n",
    "    dt = p.dt\n",
    "    \n",
    "    w  = p.w\n",
    "    diff = U-w\n",
    "    \n",
    "    M  = p.M\n",
    "    R  = p.R\n",
    "    H = p.H\n",
    "    Bt   = p.B'\n",
    "   \n",
    "    lu = lufact(sparse(p.G))\n",
    "  \n",
    "    L2 = zeros(nX)# adjoint at i+1\n",
    "    L1 = zeros(nX)# adjoint at i\n",
    "    \n",
    "    L2 = lu\\ (-theta*dt*M*diff[:,nT]);\n",
    "    \n",
    "    grad[:,nT] = theta * dt * ( alpha*R*Z[:,nT] - Bt*L2 );\n",
    " \n",
    "    for i in nT-1:-1:1\n",
    "        L1 = lu\\(H*L2 - dt*M*diff[:,i]);\n",
    "        grad[:,i] = dt * ( alpha*R*Z[:,i] - ( (1-theta)*Bt*L1 + theta*Bt*L2 ) );\n",
    "        L2 = L1\n",
    "    end\n",
    "    \n",
    "    L1 = lu\\(H*L2 - (1-theta)*dt*diff[:,1])\n",
    "    grad[:,1] = (1-theta) * dt * ( alpha*R*Z[:,1] - Bt*L1 );\n",
    "end "
   ]
  },
  {
   "cell_type": "code",
   "execution_count": 6,
   "metadata": {},
   "outputs": [
    {
     "data": {
      "text/plain": [
       "minimize (generic function with 1 method)"
      ]
     },
     "execution_count": 6,
     "metadata": {},
     "output_type": "execute_result"
    }
   ],
   "source": [
    "function minimize(z0::Array{Float64,2}, p::parameters)\n",
    "    step_size = 1.0\n",
    "    tol = 1e-3\n",
    "    \n",
    "    z = z0\n",
    "    val = 0.0\n",
    "    U = zeros(p.nX,p.nT)\n",
    "    grad = zeros(2,p.nT)\n",
    "    \n",
    "    α = 1 # α ∈ (0,0.5)\n",
    "    β = 0.9  # β ∈ (0,1)\n",
    "\n",
    "    \n",
    "    values = []            \n",
    "    max_iter = 1000\n",
    "    \n",
    "    for i in 1:max_iter\n",
    "        # solve state equation at current z\n",
    "        solve_state!(z,U,p)\n",
    "        \n",
    "        # evaluate objective at current z\n",
    "        val = evaluate_objective(z,U,p)\n",
    "        push!(values,val)\n",
    "        \n",
    "        # evaluate gradient at current z\n",
    "        evaluate_gradient!(z,U,grad,p)\n",
    "           \n",
    "        if(i%100 == 0)\n",
    "            println(\"Iteration $i\")\n",
    "            println(\"current obj is - $val\")\n",
    "        end \n",
    "        \n",
    "        # backtracking LS        \n",
    "        t = 100\n",
    "        # t = 1e4/(max_iter)\n",
    "        z = z - t*grad\n",
    "        #X,T = size(grad)\n",
    "    \n",
    "        solve_state!(z,U,p)\n",
    "        obj = evaluate_objective(z,U,p)\n",
    "        \n",
    "        iter = 1\n",
    "        max_b = 10\n",
    "        rhs = val - α*t*dot(grad,grad)\n",
    "        \n",
    "        #if(i%10 == 0)\n",
    "        #    println(\"lhs is $(obj)\")\n",
    "        #    println(\"rhs is $(rhs)\")\n",
    "        #end \n",
    "        \n",
    "        while( obj > rhs )\n",
    "            #println(\"ENTERED BLS\")\n",
    "            if(iter > max_b)\n",
    "                break\n",
    "            end \n",
    "            t = β*t\n",
    "            z = z - t*grad\n",
    "            solve_state!(z,U,p)\n",
    "            obj = evaluate_objective(z,U,p)\n",
    "            rhs = val - α*t*dot(grad,grad)\n",
    "            iter += 1\n",
    "        end\n",
    "        #if(iter > 1) \n",
    "            #println(\"exited at iter - $(iter)\")\n",
    "        #end \n",
    "    end\n",
    "    \n",
    "    solve_state!(z,U,p)\n",
    "    val = evaluate_objective(z,U,p)\n",
    "    return z, U, val, values\n",
    "end   "
   ]
  },
  {
   "cell_type": "code",
   "execution_count": 7,
   "metadata": {},
   "outputs": [
    {
     "name": "stderr",
     "output_type": "stream",
     "text": [
      "\u001b[1m\u001b[33mWARNING: \u001b[39m\u001b[22m\u001b[33msin{T <: Number}(x::AbstractArray{T}) is deprecated, use sin.(x) instead.\u001b[39m\n",
      "Stacktrace:\n",
      " [1] \u001b[1mdepwarn\u001b[22m\u001b[22m\u001b[1m(\u001b[22m\u001b[22m::String, ::Symbol\u001b[1m)\u001b[22m\u001b[22m at \u001b[1m.\\deprecated.jl:70\u001b[22m\u001b[22m\n",
      " [2] \u001b[1msin\u001b[22m\u001b[22m\u001b[1m(\u001b[22m\u001b[22m::Array{Float64,1}\u001b[1m)\u001b[22m\u001b[22m at \u001b[1m.\\deprecated.jl:57\u001b[22m\u001b[22m\n",
      " [3] \u001b[1mparameters\u001b[22m\u001b[22m\u001b[1m(\u001b[22m\u001b[22m::Int64, ::Int64, ::Float64, ::Float64, ::Float64\u001b[1m)\u001b[22m\u001b[22m at \u001b[1m.\\In[1]:36\u001b[22m\u001b[22m\n",
      " [4] \u001b[1mparameters\u001b[22m\u001b[22m\u001b[1m(\u001b[22m\u001b[22m::Int64, ::Int64\u001b[1m)\u001b[22m\u001b[22m at \u001b[1m.\\In[1]:29\u001b[22m\u001b[22m\n",
      " [5] \u001b[1minclude_string\u001b[22m\u001b[22m\u001b[1m(\u001b[22m\u001b[22m::String, ::String\u001b[1m)\u001b[22m\u001b[22m at \u001b[1m.\\loading.jl:515\u001b[22m\u001b[22m\n",
      " [6] \u001b[1minclude_string\u001b[22m\u001b[22m\u001b[1m(\u001b[22m\u001b[22m::Module, ::String, ::String\u001b[1m)\u001b[22m\u001b[22m at \u001b[1mC:\\Users\\rm949\\.julia\\v0.6\\Compat\\src\\Compat.jl:478\u001b[22m\u001b[22m\n",
      " [7] \u001b[1mexecute_request\u001b[22m\u001b[22m\u001b[1m(\u001b[22m\u001b[22m::ZMQ.Socket, ::IJulia.Msg\u001b[1m)\u001b[22m\u001b[22m at \u001b[1mC:\\Users\\rm949\\.julia\\v0.6\\IJulia\\src\\execute_request.jl:154\u001b[22m\u001b[22m\n",
      " [8] \u001b[1meventloop\u001b[22m\u001b[22m\u001b[1m(\u001b[22m\u001b[22m::ZMQ.Socket\u001b[1m)\u001b[22m\u001b[22m at \u001b[1mC:\\Users\\rm949\\.julia\\v0.6\\IJulia\\src\\eventloop.jl:8\u001b[22m\u001b[22m\n",
      " [9] \u001b[1m(::IJulia.##14#17)\u001b[22m\u001b[22m\u001b[1m(\u001b[22m\u001b[22m\u001b[1m)\u001b[22m\u001b[22m at \u001b[1m.\\task.jl:335\u001b[22m\u001b[22m\n",
      "while loading In[7], in expression starting on line 1\n",
      "\u001b[1m\u001b[33mWARNING: \u001b[39m\u001b[22m\u001b[33msin{T <: Number}(x::AbstractArray{T}) is deprecated, use sin.(x) instead.\u001b[39m\n",
      "Stacktrace:\n",
      " [1] \u001b[1mdepwarn\u001b[22m\u001b[22m\u001b[1m(\u001b[22m\u001b[22m::String, ::Symbol\u001b[1m)\u001b[22m\u001b[22m at \u001b[1m.\\deprecated.jl:70\u001b[22m\u001b[22m\n",
      " [2] \u001b[1msin\u001b[22m\u001b[22m\u001b[1m(\u001b[22m\u001b[22m::Array{Float64,1}\u001b[1m)\u001b[22m\u001b[22m at \u001b[1m.\\deprecated.jl:57\u001b[22m\u001b[22m\n",
      " [3] \u001b[1mparameters\u001b[22m\u001b[22m\u001b[1m(\u001b[22m\u001b[22m::Int64, ::Int64, ::Float64, ::Float64, ::Float64\u001b[1m)\u001b[22m\u001b[22m at \u001b[1m.\\In[1]:43\u001b[22m\u001b[22m\n",
      " [4] \u001b[1mparameters\u001b[22m\u001b[22m\u001b[1m(\u001b[22m\u001b[22m::Int64, ::Int64\u001b[1m)\u001b[22m\u001b[22m at \u001b[1m.\\In[1]:29\u001b[22m\u001b[22m\n",
      " [5] \u001b[1minclude_string\u001b[22m\u001b[22m\u001b[1m(\u001b[22m\u001b[22m::String, ::String\u001b[1m)\u001b[22m\u001b[22m at \u001b[1m.\\loading.jl:515\u001b[22m\u001b[22m\n",
      " [6] \u001b[1minclude_string\u001b[22m\u001b[22m\u001b[1m(\u001b[22m\u001b[22m::Module, ::String, ::String\u001b[1m)\u001b[22m\u001b[22m at \u001b[1mC:\\Users\\rm949\\.julia\\v0.6\\Compat\\src\\Compat.jl:478\u001b[22m\u001b[22m\n",
      " [7] \u001b[1mexecute_request\u001b[22m\u001b[22m\u001b[1m(\u001b[22m\u001b[22m::ZMQ.Socket, ::IJulia.Msg\u001b[1m)\u001b[22m\u001b[22m at \u001b[1mC:\\Users\\rm949\\.julia\\v0.6\\IJulia\\src\\execute_request.jl:154\u001b[22m\u001b[22m\n",
      " [8] \u001b[1meventloop\u001b[22m\u001b[22m\u001b[1m(\u001b[22m\u001b[22m::ZMQ.Socket\u001b[1m)\u001b[22m\u001b[22m at \u001b[1mC:\\Users\\rm949\\.julia\\v0.6\\IJulia\\src\\eventloop.jl:8\u001b[22m\u001b[22m\n",
      " [9] \u001b[1m(::IJulia.##14#17)\u001b[22m\u001b[22m\u001b[1m(\u001b[22m\u001b[22m\u001b[1m)\u001b[22m\u001b[22m at \u001b[1m.\\task.jl:335\u001b[22m\u001b[22m\n",
      "while loading In[7], in expression starting on line 1\n"
     ]
    },
    {
     "name": "stdout",
     "output_type": "stream",
     "text": [
      "Iteration 100\n",
      "current obj is - 1.3955437735531444\n",
      "Iteration 200\n",
      "current obj is - 1.3753339901403177\n",
      "Iteration 300\n",
      "current obj is - 1.358899301161663\n",
      "Iteration 400\n",
      "current obj is - 1.345506848189545\n",
      "Iteration 500\n",
      "current obj is - 1.334566465853538\n",
      "Iteration 600\n",
      "current obj is - 1.3256028905320338\n",
      "Iteration 700\n",
      "current obj is - 1.318233381938188\n",
      "Iteration 800\n",
      "current obj is - 1.3121497033303258\n",
      "Iteration 900\n",
      "current obj is - 1.3071036114167576\n",
      "Iteration 1000\n",
      "current obj is - 1.3028951723715494\n"
     ]
    },
    {
     "data": {
      "text/plain": [
       "([-2.1884 -4.75606 … -0.00157279 -0.000487167; -3.85716 -6.41919 … -0.00546778 -0.00126481], [0.0 0.113358 … 0.108393 0.109123; 0.00314473 0.111054 … 0.10909 0.108449; … ; 0.00314473 0.10459 … 0.0775445 0.0772794; 1.22465e-16 0.106569 … 0.0768896 0.0779174], 1.3028567447862311, Any[1.42016, 1.41989, 1.41961, 1.41934, 1.41907, 1.41879, 1.41852, 1.41825, 1.41798, 1.41771  …  1.30324, 1.30321, 1.30317, 1.30313, 1.30309, 1.30305, 1.30301, 1.30297, 1.30293, 1.3029])"
      ]
     },
     "execution_count": 7,
     "metadata": {},
     "output_type": "execute_result"
    }
   ],
   "source": [
    "p = parameters(1000,1200)\n",
    "z0 = zeros(2,p.nT)*1e-4\n",
    "\n",
    "\n",
    "z,U,val,values = minimize(z0,p)"
   ]
  },
  {
   "cell_type": "code",
   "execution_count": 8,
   "metadata": {
    "collapsed": true
   },
   "outputs": [],
   "source": [
    "using Plots,PyPlot"
   ]
  },
  {
   "cell_type": "code",
   "execution_count": 9,
   "metadata": {},
   "outputs": [
    {
     "data": {
      "image/png": "[encoded data removed]",
      "text/plain": [
       "PyPlot.Figure(PyObject <matplotlib.figure.Figure object at 0x0000000036767DD8>)"
      ]
     },
     "metadata": {},
     "output_type": "display_data"
    },
    {
     "data": {
      "text/plain": [
       "2-element Array{PyCall.PyObject,1}:\n",
       " PyObject <matplotlib.lines.Line2D object at 0x0000000037134E10>\n",
       " PyObject <matplotlib.lines.Line2D object at 0x0000000037134EF0>"
      ]
     },
     "execution_count": 9,
     "metadata": {},
     "output_type": "execute_result"
    }
   ],
   "source": [
    "x = linspace(0,1,p.nX); y = hcat(U[:,150],p.w[:,150])\n",
    "pl = PyPlot.plot(x,y)"
   ]
  },
  {
   "cell_type": "code",
   "execution_count": 10,
   "metadata": {},
   "outputs": [
    {
     "data": {
      "text/plain": [
       "(1000,)"
      ]
     },
     "execution_count": 10,
     "metadata": {},
     "output_type": "execute_result"
    }
   ],
   "source": [
    "size(values)"
   ]
  },
  {
   "cell_type": "code",
   "execution_count": 11,
   "metadata": {},
   "outputs": [
    {
     "data": {
      "image/png": "[encoded data removed]",
      "text/plain": [
       "PyPlot.Figure(PyObject <matplotlib.figure.Figure object at 0x0000000037261E10>)"
      ]
     },
     "metadata": {},
     "output_type": "display_data"
    },
    {
     "data": {
      "text/plain": [
       "1-element Array{PyCall.PyObject,1}:\n",
       " PyObject <matplotlib.lines.Line2D object at 0x00000000374620F0>"
      ]
     },
     "execution_count": 11,
     "metadata": {},
     "output_type": "execute_result"
    }
   ],
   "source": [
    "x = collect(1:1000)\n",
    "y = values\n",
    "PyPlot.plot(x,y)"
   ]
  },
  {
   "cell_type": "code",
   "execution_count": 12,
   "metadata": {},
   "outputs": [
    {
     "data": {
      "image/png": "[encoded data removed]",
      "text/plain": [
       "PyPlot.Figure(PyObject <matplotlib.figure.Figure object at 0x0000000037444550>)"
      ]
     },
     "metadata": {},
     "output_type": "display_data"
    },
    {
     "data": {
      "text/plain": [
       "2-element Array{PyCall.PyObject,1}:\n",
       " PyObject <matplotlib.lines.Line2D object at 0x00000000376DEE80>\n",
       " PyObject <matplotlib.lines.Line2D object at 0x00000000376DEF28>"
      ]
     },
     "execution_count": 12,
     "metadata": {},
     "output_type": "execute_result"
    }
   ],
   "source": [
    "t = linspace(0,1,p.nT); y = z'\n",
    "PyPlot.plot(t,y)"
   ]
  },
  {
   "cell_type": "markdown",
   "metadata": {},
   "source": [
    "\"\"\"\n",
    "using Optim\n",
    "#p2 = parameters(258,502)\n",
    "#z = ones(2,p2.nT)*1e-3\n",
    "#h = ones(2,p2.nT)*1e-3;\n",
    "#checkGradient(z,h,p2)\n",
    "\n",
    "p = parameters(258,502)\n",
    "#z = rand(2,p.nT)\n",
    "#minimize(z,p)\n",
    "U = zeros(p.nX,p.nT)\n",
    "grad = zeros(2,p.nT)\n",
    "\n",
    "function f(z)\n",
    "    solve_state!(z,U,p)\n",
    "    return evaluate_objective(z,U,p)\n",
    "end \n",
    "\n",
    "function g!(storage,z)\n",
    "    solve_state!(z,U,p)\n",
    "    evaluate_gradient!(z,U,grad,p)\n",
    "    storage = grad\n",
    "end \n",
    "z0 = rand(2,p.nT)*1e-4\n",
    "#optimize(f, g!, z0)\n",
    "#inimize(z0,p)\n",
    "\n",
    "function checkGradient(z, h, p)\n",
    "    U = zeros(p.nX,p.nT)\n",
    "    grad = zeros(2,p.nT)\n",
    "    \n",
    "    solve_state!(z,U,p)\n",
    "    val0 = evaluate_objective(z,U,p)\n",
    "    evaluate_gradient!(z,U,grad,p)\n",
    "    println(\"initial obj is $(val0)\")\n",
    "    println(\"grad norm is $(norm(grad)^2)\")\n",
    "    gh = dot(grad,h)\n",
    "    println(\"STEPSIZE      DIRDERIV      FDDERIV       ERROR\")\n",
    "    t = 10\n",
    "    for i=1:13\n",
    "        t   /= 10 \n",
    "        znew = z + t*h\n",
    "        println(\"znew norm^2 is $(norm(znew)^2)\\n\")\n",
    "        solve_state!(znew,U,p)\n",
    "        val  = evaluate_objective(znew,U,p)\n",
    "        println(\"objnew is $(val)\\n\")\n",
    "        diff = (val - val0)/t;\n",
    "        err  = abs(diff - gh);\n",
    "    \n",
    "        #println(\"$t, $(abs(gh)), $(abs(diff)), $(err)\\n\");\n",
    "    end\n",
    "end\n",
    "\n",
    "using Plots, PyPlot\n",
    "\n",
    "x = linspace(0,1,p.nX)\n",
    "#t = linspace(0,1,p.nX)\n",
    "#pyplot()\n",
    "#p = PyPlot.plot()\n",
    "\n",
    "figure(figsize=(4,4))\n",
    "\n",
    "@gif for i in 1:p.nT\n",
    "    y = U[:,i]\n",
    "    PyPlot.plot(x,y)\n",
    "    #push!(p,x,y)\n",
    "    end \n",
    "\n",
    "t = linspace(0,1,p.nT); y = z[1,:]\n",
    "PyPlot.plot(t,y)\n",
    "\n",
    "Pkg.add(\"JLD\")\n",
    "using JLD\n",
    "save(\"state.jld\", \"data\", U)\n",
    "save(\"control.jld\", \"data\", z)\n",
    "\n",
    "d = load(\"state.jld\")\n",
    "D = d[\"data\"]\n",
    "\"\"\";"
   ]
  },
  {
   "cell_type": "code",
   "execution_count": 13,
   "metadata": {
    "collapsed": true
   },
   "outputs": [],
   "source": [
    "using JLD\n",
    "save(\"values2.jld\", \"data\", values)\n",
    "save(\"state2.jld\", \"data\", U)\n",
    "save(\"control2.jld\", \"data\", z)\n"
   ]
  },
  {
   "cell_type": "code",
   "execution_count": 14,
   "metadata": {
    "collapsed": true
   },
   "outputs": [],
   "source": [
    "D1 = values - ones(1000);"
   ]
  },
  {
   "cell_type": "code",
   "execution_count": 15,
   "metadata": {},
   "outputs": [
    {
     "data": {
      "text/plain": [
       "Dict{String,Any} with 1 entry:\n",
       "  \"data\" => Any[0.420298, 0.420154, 0.420009, 0.419864, 0.41972, 0.419576, 0.41…"
      ]
     },
     "execution_count": 15,
     "metadata": {},
     "output_type": "execute_result"
    }
   ],
   "source": [
    "d2 = load(\"sketch2-values.jld\")"
   ]
  },
  {
   "cell_type": "code",
   "execution_count": 16,
   "metadata": {},
   "outputs": [
    {
     "data": {
      "text/plain": [
       "1000-element Array{Any,1}:\n",
       " 0.420298\n",
       " 0.420154\n",
       " 0.420009\n",
       " 0.419864\n",
       " 0.41972 \n",
       " 0.419576\n",
       " 0.419432\n",
       " 0.419288\n",
       " 0.419144\n",
       " 0.419001\n",
       " 0.418858\n",
       " 0.418714\n",
       " 0.418571\n",
       " ⋮       \n",
       " 0.332675\n",
       " 0.332625\n",
       " 0.332575\n",
       " 0.332525\n",
       " 0.332476\n",
       " 0.332426\n",
       " 0.332376\n",
       " 0.332327\n",
       " 0.332277\n",
       " 0.332228\n",
       " 0.332178\n",
       " 0.332129"
      ]
     },
     "execution_count": 16,
     "metadata": {},
     "output_type": "execute_result"
    }
   ],
   "source": [
    "D2 = d2[\"data\"]"
   ]
  },
  {
   "cell_type": "code",
   "execution_count": null,
   "metadata": {
    "collapsed": true
   },
   "outputs": [],
   "source": []
  }
 ],
 "metadata": {
  "anaconda-cloud": {},
  "kernelspec": {
   "display_name": "Julia 0.6.0",
   "language": "julia",
   "name": "julia-0.6"
  },
  "language_info": {
   "file_extension": ".jl",
   "mimetype": "application/julia",
   "name": "julia",
   "version": "0.6.0"
  }
 },
 "nbformat": 4,
 "nbformat_minor": 1
}
