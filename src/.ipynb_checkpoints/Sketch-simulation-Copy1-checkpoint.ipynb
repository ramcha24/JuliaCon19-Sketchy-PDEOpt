{
 "cells": [
  {
   "cell_type": "code",
   "execution_count": 1,
   "metadata": {},
   "outputs": [
    {
     "name": "stderr",
     "output_type": "stream",
     "text": [
      "\n",
      "WARNING: deprecated syntax \"abstract AbstractSketch\" at In[1]:12.\n",
      "Use \"abstract type AbstractSketch end\" instead.\n",
      "WARNING: Method definition (::"
     ]
    },
    {
     "data": {
      "text/plain": [
       "mysvds (generic function with 1 method)"
      ]
     },
     "execution_count": 1,
     "metadata": {},
     "output_type": "execute_result"
    }
   ],
   "source": [
    "# sketch code taken from Madeleine.\n",
    "# Minor modifications in reconstruct function (return array instead of LowRankOperator)\n",
    "# moving to julia 0.6 : type -> mutable struct,  immutable -> struct\n",
    "\n",
    "import Base: axpy!, scale!, ctranspose, dot, size, svds\n",
    "import ArrayViews: view\n",
    "\n",
    "#export AbstractSketch, AsymmetricSketch,\n",
    "#\tadditive_update!, reconstruct\n",
    "\n",
    "abstract AbstractSketch\n",
    "\n",
    "# Asymmetric\n",
    "\n",
    "type AsymmetricSketch<:AbstractSketch\n",
    "\tr::Int\n",
    "\tOmega::Array{Float64,2}\n",
    "\tPsi::Array{Float64,2}\n",
    "\tY::Array{Float64,2}\n",
    "\tW::Array{Float64,2}\n",
    "    \n",
    "    A::Array{Float64,2}\n",
    "    B::Array{Float64,2}\n",
    "    rec::Bool\n",
    "    \n",
    "    function AsymmetricSketch(m::Int, n::Int, r::Int)\n",
    "        k = 2r + 1\n",
    "        l = 4r + 3 # == 2k+1\n",
    "        Omega = randn(n,k)\n",
    "        Psi   = randn(m,l)\n",
    "        Y     = zeros(m,k)\n",
    "        W     = zeros(n,l)\n",
    "        \n",
    "        A = Array{Float64,2}(0,0)\n",
    "        B = Array{Float64,2}(0,0)\n",
    "        new(r,Omega,Psi,Y,W,A,B,false)\n",
    "    end\n",
    "end \n",
    "\n",
    "function additive_update!(s::AsymmetricSketch, uvt, eta=1)\n",
    "\t# Y = Y + eta*v*v'*Omega\n",
    "    axpy!(eta, uvt*s.Omega, s.Y)\n",
    "\t# W = W + eta*v*v'*Psi\n",
    "\taxpy!(eta, uvt'*s.Psi, s.W)\n",
    "end\n",
    "\n",
    "function reconstruct!(s::AsymmetricSketch, r::Int=s.r)\n",
    "\t# Q = orth(s.Y)\n",
    "    if(s.rec)\n",
    "        error(\"Warning : Already reconstructed!\")\n",
    "    end \n",
    "    s.rec = true\n",
    "\tk = 2r + 1\n",
    "\tl = 4r + 3\n",
    "\tQ,_ = qr(view(s.Y,:,1:k))\n",
    "\tB = view(s.W,:,1:l) / (Q'*view(s.Psi,:,1:l)) # Q's.Psi is k x l, its pinv is l x k, so B is n x k\n",
    "\t#U,S,V = mysvds(B, nsv=r) # U is n x r\n",
    "\t\n",
    "    #println(\"sizes of q,b,u,s,v\")\n",
    "    #println(size(Q))\n",
    "\t#println(size(B))\n",
    "\t#println(size(U))\n",
    "\t#println(size(S))\n",
    "\t#println(size(V))\n",
    "    #s.A = Q*V'\n",
    "    #s.B = spdiagm(S)*U'\n",
    "    s.A = Q\n",
    "    s.B = B'\n",
    "    #println(\"s.A size is $(size(s.A))\")\n",
    "    #println(\"s.B size is $(size(s.B))\")\n",
    "end\n",
    "\n",
    "function col(s::AsymmetricSketch, i::Int)\n",
    "    if(!s.rec)\n",
    "        error(\"Not reconstructed yet!\")\n",
    "    end\n",
    "    return s.A*s.B[:,i]\n",
    "end \n",
    "\n",
    "function clear(s::AsymmetricSketch)\n",
    "    m = size(s.Y)[1]\n",
    "    n = size(s.W)[1]\n",
    "    k = 2*s.r + 1\n",
    "    l = 4*s.r + 3 # == 2k+1\n",
    "    s.Omega = randn(n,k)\n",
    "    s.Psi   = randn(m,l)\n",
    "    s.Y     = zeros(m,k)\n",
    "    s.W     = zeros(n,l)\n",
    "    s.A = Array{Float64,2}(0,0)\n",
    "    s.B = Array{Float64,2}(0,0)\n",
    "    s.rec = false;\n",
    "end \n",
    "\n",
    "### utilities\n",
    "pos(a::Number) = max(a,0)\n",
    "function pos(a::Array)\n",
    "\tfor i in length(a)\n",
    "\t\ta[i] = pos(a[i])\n",
    "\tend\n",
    "\ta\n",
    "end\n",
    "\n",
    "function mysvds(args...; kwargs...)\n",
    "  svdobj,_ = Base.svds(args...; kwargs...)\n",
    "  return svdobj.U, svdobj.S, svdobj.Vt\n",
    "end\n"
   ]
  },
  {
   "cell_type": "code",
   "execution_count": 2,
   "metadata": {},
   "outputs": [
    {
     "name": "stderr",
     "output_type": "stream",
     "text": [
      "Type{ArrayViews.UnsafeContiguousView{T, "
     ]
    },
    {
     "data": {
      "text/plain": [
       "w (generic function with 1 method)"
      ]
     },
     "execution_count": 2,
     "metadata": {},
     "output_type": "execute_result"
    }
   ],
   "source": [
    "type wdim\n",
    "    nX::Int\n",
    "    nT::Int\n",
    "    function wdim(nX,nT)\n",
    "        new(nX,nT)\n",
    "    end \n",
    "end \n",
    "\n",
    "function w(d,i)\n",
    "    x = linspace(0,1,d.nX)\n",
    "    t = linspace(0,1,d.nT)\n",
    "    return sin.(2*pi*(t[i]+x))\n",
    "end "
   ]
  },
  {
   "cell_type": "code",
   "execution_count": 3,
   "metadata": {},
   "outputs": [
    {
     "name": "stderr",
     "output_type": "stream",
     "text": [
      "N} where N where T})"
     ]
    }
   ],
   "source": [
    "type parameters\n",
    "    # Parameters.\n",
    "    nX :: Int # Number of spatial mesh points\n",
    "    nT :: Int # Number of timesteps\n",
    "    theta :: Float64 # time-stepping parameter\n",
    "    gamma :: Float64 # Robin's coefficient\n",
    "    alpha :: Float64 # Control Penalty \n",
    "    \n",
    "    dx :: Float64 # Difference between any two mesh nodes, (= h)\n",
    "    x :: Array{Float64,1} # Mesh nodes. \n",
    "    dt :: Float64 # Difference between any two time steps\n",
    "    t :: Array{Float64,1} # Time steps \n",
    "    \n",
    "    u0 :: Array{Float64,1} # State at time 0.\n",
    "    \n",
    "    z0 :: Array{Float64,2} # Initial guess for Control\n",
    "    \n",
    "    d :: wdim # Desired state dimensions.\n",
    "    \n",
    "    M :: SymTridiagonal{Float64} # Mass Matrix\n",
    "    A :: SymTridiagonal{Float64} # Stiffness Matrix \n",
    "    B :: SparseMatrixCSC{Float64,Int64} # Control Operator\n",
    "    R :: Array{Float64,2} # Control Penalty Matrix\n",
    "    \n",
    "    G :: SymTridiagonal{Float64} \n",
    "    H :: SymTridiagonal{Float64}\n",
    "    \n",
    "    function parameters(nX = 256, nT = Int(5e2), theta = 0.5, gamma = 1e-1, alpha = 1e-4)\n",
    "        dx = 1/(nX -1)\n",
    "        \n",
    "        x = Array(linspace(0,1,nX))\n",
    "        t = Array(linspace(0,1,nT))\n",
    "        \n",
    "        dt = 1/(nT -1) \n",
    "        \n",
    "        u0 = sin.(pi*x)  \n",
    "    \n",
    "        z0 = zeros(2,nT)\n",
    "        \n",
    "        d = wdim(nX,nT)\n",
    "        #w = zeros(nX, nT)  \n",
    "\n",
    "        #for i in 1:nT\n",
    "        #    w[:,i] = sin(2*pi*(t[i] + x))\n",
    "        #end \n",
    "        \n",
    "        M,A,B,R = buildFEM(nX,gamma)\n",
    "    \n",
    "        G = M + theta*dt*A\n",
    "        H = M - (1-theta)*dt*A\n",
    "        \n",
    "        new(nX,nT,theta,gamma,alpha,dx,x,dt,t,u0,z0,d,M,A,B,R,G,H)\n",
    "    end \n",
    "end\n",
    "\n"
   ]
  },
  {
   "cell_type": "code",
   "execution_count": 4,
   "metadata": {},
   "outputs": [
    {
     "name": "stderr",
     "output_type": "stream",
     "text": [
      "(Ptr{T"
     ]
    },
    {
     "data": {
      "text/plain": [
       "buildFEM (generic function with 1 method)"
      ]
     },
     "execution_count": 4,
     "metadata": {},
     "output_type": "execute_result"
    },
    {
     "name": "stderr",
     "output_type": "stream",
     "text": [
      "}, Int64, Tuple{Vararg{Int64, N}}) in module ArrayViews at C:\\Users\\rm949\\.julia\\v0.6\\ArrayViews\\src\\arrviews.jl:18 overwritten at C:\\Users\\rm949\\.julia\\v0.6\\ArrayViews\\src\\arrviews.jl:26.\n"
     ]
    }
   ],
   "source": [
    "function buildFEM(n::Int, gamma::Float64)\n",
    "    h = 1/(n-1)\n",
    "\n",
    "    o = h/6*ones(n-1)\n",
    "    d = 4*h/6*ones(n)\n",
    "    d[1]   = 2*h/6\n",
    "    d[n] = 2*h/6\n",
    "    M = SymTridiagonal(d,o)\n",
    "    \n",
    "    o = -1/h*ones(n-1)\n",
    "    d = 2/h*ones(n)\n",
    "    d[1]   = 1/h + gamma\n",
    "    d[n] = 1/h + gamma\n",
    "    A = SymTridiagonal(d,o)\n",
    "\n",
    "    B = sparse([1,n],[1,2],[gamma,gamma])\n",
    "    \n",
    "    R = speye(2,2)\n",
    "    \n",
    "    return M,A,B,R\n",
    "end "
   ]
  },
  {
   "cell_type": "code",
   "execution_count": 5,
   "metadata": {},
   "outputs": [
    {
     "data": {
      "text/plain": [
       "solve_state! (generic function with 1 method)"
      ]
     },
     "execution_count": 5,
     "metadata": {},
     "output_type": "execute_result"
    }
   ],
   "source": [
    "function solve_state!(Z::Array{Float64,2}, U::AsymmetricSketch, p::parameters)\n",
    "    if(U.rec)\n",
    "        error(\"Can't Solve state when its already reconstructed!\")\n",
    "    end \n",
    "    nT = p.nT\n",
    "    nX = p.nX\n",
    "    dt = p.dt\n",
    "    alpha = p.alpha\n",
    "    theta = p.theta\n",
    "\n",
    "    u1 = p.u0\n",
    "    \n",
    "    B = p.B\n",
    "    G = p.B\n",
    "    H = p.H\n",
    "    \n",
    "    M  = p.M\n",
    "    R  = p.R\n",
    "    d = p.d\n",
    "    \n",
    "    lu = lufact(full(p.G))\n",
    "    \n",
    "    u_temp = u1\n",
    "    \n",
    "    diff = u_temp-w(d,1)\n",
    "    val = (1-theta)*( diff'*M*diff + alpha*Z[:,1]'*R*Z[:,1] )\n",
    "    \n",
    "    \n",
    "    I = collect(1:p.nX)    \n",
    "    J = fill(1,p.nX)\n",
    "    A = sparse(I,J,u1,p.nX,p.nT)\n",
    "    additive_update!(U, A)\n",
    "    \n",
    "    for i in 1:nT-1\n",
    "        Y = H*u_temp + dt*B*( theta*Z[:,i+1] + (1-theta)*Z[:,i] ) \n",
    "        u_temp = lu\\Y\n",
    "        \n",
    "        if(i<nT-1)\n",
    "            diff = u_temp-w(d,i+1)\n",
    "            val += diff'*M*diff + alpha*Z[:,i]'*R*Z[:,i]\n",
    "        else\n",
    "            diff = u_temp-w(d,nT)\n",
    "            val += theta*( diff'*M*diff + alpha*Z[:,nT]'*R*Z[:,nT] )\n",
    "        end \n",
    "        reshape(u_temp,p.nX)\n",
    "        J = fill(i,p.nX)\n",
    "        A = sparse(I,J,u_temp,p.nX,p.nT)\n",
    "        additive_update!(U,A)\n",
    "    end\n",
    "    reconstruct!(U,U.r)\n",
    "    \n",
    "    val = 0.5*dt*val\n",
    "    return val[1]\n",
    "end "
   ]
  },
  {
   "cell_type": "code",
   "execution_count": 6,
   "metadata": {},
   "outputs": [
    {
     "data": {
      "text/plain": [
       "evaluate_gradient! (generic function with 1 method)"
      ]
     },
     "execution_count": 6,
     "metadata": {},
     "output_type": "execute_result"
    }
   ],
   "source": [
    "function evaluate_gradient!(Z::Array{Float64,2}, U::AsymmetricSketch, grad::Array{Float64,2}, p::parameters)\n",
    "    if(!(U.rec))\n",
    "        error(\"Can't evaluate gradient state when hasn't been reconstructed!\")\n",
    "    end \n",
    "    nT = p.nT\n",
    "    nX = p.nX\n",
    "    alpha = p.alpha\n",
    "    theta = p.theta\n",
    "    dt = p.dt\n",
    "    \n",
    "    d  = p.d\n",
    "    \n",
    "    M  = p.M\n",
    "    R  = p.R\n",
    "    H = p.H\n",
    "    Bt   = p.B'\n",
    "   \n",
    "    lu = lufact(sparse(p.G))\n",
    "  \n",
    "    L2 = zeros(nX)# adjoint at i+1\n",
    "    L1 = zeros(nX)# adjoint at i\n",
    "    \n",
    "    diff = col(U,nT)-w(d,nT)\n",
    "    L2 = lu\\ (-theta*dt*M*diff);\n",
    "    \n",
    "    grad[:,nT] = theta * dt * ( alpha*R*Z[:,nT] - Bt*L2 );\n",
    " \n",
    "    for i in nT-1:-1:1\n",
    "        diff = col(U,i)-w(d,i)\n",
    "        L1 = lu\\(H*L2 - dt*M*diff);\n",
    "        grad[:,i] = dt * ( alpha*R*Z[:,i] - ( (1-theta)*Bt*L1 + theta*Bt*L2 ) );\n",
    "        L2 = L1\n",
    "    end\n",
    "    \n",
    "    diff = col(U,1)-w(d,1)\n",
    "    L1 = lu\\(H*L2 - (1-theta)*dt*diff)\n",
    "    grad[:,1] = (1-theta) * dt * ( alpha*R*Z[:,1] - Bt*L1 );\n",
    "end "
   ]
  },
  {
   "cell_type": "code",
   "execution_count": 7,
   "metadata": {},
   "outputs": [
    {
     "data": {
      "text/plain": [
       "minimize (generic function with 1 method)"
      ]
     },
     "execution_count": 7,
     "metadata": {},
     "output_type": "execute_result"
    }
   ],
   "source": [
    "function minimize(z0::Array{Float64,2}, p::parameters)\n",
    "    step_size = 1.0\n",
    "    tol = 1e-3\n",
    "\n",
    "    z = z0\n",
    "    val = 0.0\n",
    "    r = 20\n",
    "    values = []\n",
    "    U = AsymmetricSketch(p.nX,p.nT,20)\n",
    "    grad = zeros(2,p.nT)\n",
    "    \n",
    "    α = 1 # α ∈ (0,0.5)\n",
    "    β = 0.9  # β ∈ (0,1)\n",
    "\n",
    "    \n",
    "            \n",
    "    max_iter = 1000\n",
    "    \n",
    "    for i in 1:max_iter\n",
    "        # solve state equation at current z\n",
    "        val = solve_state!(z,U,p)\n",
    "        \n",
    "        # evaluate objective at current z\n",
    "        #val = evaluate_objective(z,U,p)\n",
    "        push!(values,val)\n",
    "        \n",
    "        # evaluate gradient at current z\n",
    "        evaluate_gradient!(z,U,grad,p)\n",
    "        \n",
    "        #if(i%10 == 0)\n",
    "        #    println(\"Reached Iteration $i\")\n",
    "        #    println(\"current obj is - $val\")\n",
    "        #end \n",
    "        \n",
    "        if(i%100 == 0)\n",
    "            println(\"Iteration $i\")\n",
    "            println(\"current obj is - $val\")\n",
    "        end \n",
    "        \n",
    "        # backtracking LS        \n",
    "        t = 100\n",
    "        # t = 1e4/(max_iter)\n",
    "        z = z - t*grad\n",
    "        \n",
    "        clear(U)\n",
    "        obj = solve_state!(z,U,p)\n",
    "        #obj = evaluate_objective(z,U,p)\n",
    "        \n",
    "        s = p.dt*ones(p.nT)\n",
    "        s[1] /= 2\n",
    "        s[p.nT] /= 2\n",
    "        S = inv(Diagonal(s))\n",
    "        \n",
    "        iter = 1\n",
    "        max_b = 10\n",
    "        #println(\"GRADSIZE\")\n",
    "        #println(size(grad))\n",
    "        rhs = val - α*t*dot(grad,grad*S)\n",
    "        while( obj > rhs )\n",
    "            #println(\"ENTERED YO\")\n",
    "            if(iter > max_b)\n",
    "                break\n",
    "            end \n",
    "            t = β*t\n",
    "            z = z - t*grad\n",
    "            clear(U)\n",
    "            obj = solve_state!(z,U,p)\n",
    "            #obj = evaluate_objective(z,U,p)\n",
    "            rhs = val - α*t*dot(grad,grad)\n",
    "            #println(\"obj is now $(obj)\")\n",
    "            #println(\"rhs is now $(rhs)\")\n",
    "            iter += 1\n",
    "        end\n",
    "        if(iter > 1) \n",
    "            #println(\"exited at iter - $(iter)\")\n",
    "        end \n",
    "        clear(U)\n",
    "    end\n",
    "    \n",
    "    clear(U)\n",
    "    val = solve_state!(z,U,p)\n",
    "    #val = evaluate_objective(z,U,p)\n",
    "    return z, U, val, values\n",
    "end   "
   ]
  },
  {
   "cell_type": "code",
   "execution_count": 8,
   "metadata": {},
   "outputs": [
    {
     "name": "stderr",
     "output_type": "stream",
     "text": [
      "WARNING: Base.LinearFast is deprecated, use Base.IndexLinear instead.\n",
      "  likely near In[8]:5\n",
      "WARNING: Base.LinearFast is deprecated, use Base.IndexLinear instead.\n",
      "  likely near In[8]:5\n",
      "WARNING: Base.LinearFast is deprecated, use Base.IndexLinear instead.\n",
      "  likely near In[8]:5\n",
      "\u001b[1m\u001b[33mWARNING: \u001b[39m\u001b[22m\u001b[33mArray{T, N}(::Type{T}, d::NTuple{N, Int}) is deprecated, use Array{T}(d) instead.\u001b[39m\n",
      "Stacktrace:\n",
      " [1] \u001b[1mdepwarn\u001b[22m\u001b[22m\u001b[1m(\u001b[22m\u001b[22m::String, ::Symbol\u001b[1m)\u001b[22m\u001b[22m at \u001b[1m.\\deprecated.jl:70\u001b[22m\u001b[22m\n",
      " [2] \u001b[1mArray\u001b[22m\u001b[22m\u001b[1m(\u001b[22m\u001b[22m::Type{Float64}, ::Tuple{Int64,Int64}\u001b[1m)\u001b[22m\u001b[22m at \u001b[1m.\\deprecated.jl:57\u001b[22m\u001b[22m\n",
      " [3] \u001b[1mqrfact\u001b[22m\u001b[22m\u001b[1m(\u001b[22m\u001b[22m::ArrayViews.ContiguousView{Float64,2,Array{Float64,2}}, ::Type{T} where T\u001b[1m)\u001b[22m\u001b[22m at \u001b[1m.\\linalg\\qr.jl:274\u001b[22m\u001b[22m\n",
      " [4] \u001b[1m#_qr#30\u001b[22m\u001b[22m at \u001b[1m.\\linalg\\qr.jl:296\u001b[22m\u001b[22m [inlined]\n",
      " [5] \u001b[1m(::Base.LinAlg.#kw##_qr)\u001b[22m\u001b[22m\u001b[1m(\u001b[22m\u001b[22m::Array{Any,1}, ::Base.LinAlg.#_qr, ::ArrayViews.ContiguousView{Float64,2,Array{Float64,2}}, ::Type{Val{false}}\u001b[1m)\u001b[22m\u001b[22m at \u001b[1m.\\<missing>:0\u001b[22m\u001b[22m\n",
      " [6] \u001b[1mreconstruct!\u001b[22m\u001b[22m\u001b[1m(\u001b[22m\u001b[22m::AsymmetricSketch, ::Int64\u001b[1m)\u001b[22m\u001b[22m at \u001b[1m.\\In[1]:55\u001b[22m\u001b[22m\n",
      " [7] \u001b[1msolve_state!\u001b[22m\u001b[22m\u001b[1m(\u001b[22m\u001b[22m::Array{Float64,2}, ::AsymmetricSketch, ::parameters\u001b[1m)\u001b[22m\u001b[22m at \u001b[1m.\\In[5]:50\u001b[22m\u001b[22m\n",
      " [8] \u001b[1mminimize\u001b[22m\u001b[22m\u001b[1m(\u001b[22m\u001b[22m::Array{Float64,2}, ::parameters\u001b[1m)\u001b[22m\u001b[22m at \u001b[1m.\\In[7]:21\u001b[22m\u001b[22m\n",
      " [9] \u001b[1minclude_string\u001b[22m\u001b[22m\u001b[1m(\u001b[22m\u001b[22m::String, ::String\u001b[1m)\u001b[22m\u001b[22m at \u001b[1m.\\loading.jl:515\u001b[22m\u001b[22m\n",
      " [10] \u001b[1minclude_string\u001b[22m\u001b[22m\u001b[1m(\u001b[22m\u001b[22m::Module, ::String, ::String\u001b[1m)\u001b[22m\u001b[22m at \u001b[1mC:\\Users\\rm949\\.julia\\v0.6\\Compat\\src\\Compat.jl:478\u001b[22m\u001b[22m\n",
      " [11] \u001b[1mexecute_request\u001b[22m\u001b[22m\u001b[1m(\u001b[22m\u001b[22m::ZMQ.Socket, ::IJulia.Msg\u001b[1m)\u001b[22m\u001b[22m at \u001b[1mC:\\Users\\rm949\\.julia\\v0.6\\IJulia\\src\\execute_request.jl:154\u001b[22m\u001b[22m\n",
      " [12] \u001b[1meventloop\u001b[22m\u001b[22m\u001b[1m(\u001b[22m\u001b[22m::ZMQ.Socket\u001b[1m)\u001b[22m\u001b[22m at \u001b[1mC:\\Users\\rm949\\.julia\\v0.6\\IJulia\\src\\eventloop.jl:8\u001b[22m\u001b[22m\n",
      " [13] \u001b[1m(::IJulia.##14#17)\u001b[22m\u001b[22m\u001b[1m(\u001b[22m\u001b[22m\u001b[1m)\u001b[22m\u001b[22m at \u001b[1m.\\task.jl:335\u001b[22m\u001b[22m\n",
      "while loading In[8], in expression starting on line 5\n",
      "\u001b[1m\u001b[33mWARNING: \u001b[39m\u001b[22m\u001b[33mArray{T, N}(::Type{T}, d::NTuple{N, Int}) is deprecated, use Array{T}(d) instead.\u001b[39m\n",
      "Stacktrace:\n",
      " [1] \u001b[1mdepwarn\u001b[22m\u001b[22m\u001b[1m(\u001b[22m\u001b[22m::String, ::Symbol\u001b[1m)\u001b[22m\u001b[22m at \u001b[1m.\\deprecated.jl:70\u001b[22m\u001b[22m\n",
      " [2] \u001b[1mArray\u001b[22m\u001b[22m\u001b[1m(\u001b[22m\u001b[22m::Type{Float64}, ::Tuple{Int64,Int64}\u001b[1m)\u001b[22m\u001b[22m at \u001b[1m.\\deprecated.jl:57\u001b[22m\u001b[22m\n",
      " [3] \u001b[1mAt_mul_B\u001b[22m\u001b[22m at \u001b[1m.\\linalg\\matmul.jl:182\u001b[22m\u001b[22m [inlined]\n",
      " [4] \u001b[1mAc_mul_B\u001b[22m\u001b[22m at \u001b[1m.\\linalg\\matmul.jl:211\u001b[22m\u001b[22m [inlined]\n",
      " [5] \u001b[1mreconstruct!\u001b[22m\u001b[22m\u001b[1m(\u001b[22m\u001b[22m::AsymmetricSketch, ::Int64\u001b[1m)\u001b[22m\u001b[22m at \u001b[1m.\\In[1]:56\u001b[22m\u001b[22m\n",
      " [6] \u001b[1msolve_state!\u001b[22m\u001b[22m\u001b[1m(\u001b[22m\u001b[22m::Array{Float64,2}, ::AsymmetricSketch, ::parameters\u001b[1m)\u001b[22m\u001b[22m at \u001b[1m.\\In[5]:50\u001b[22m\u001b[22m\n",
      " [7] \u001b[1mminimize\u001b[22m\u001b[22m\u001b[1m(\u001b[22m\u001b[22m::Array{Float64,2}, ::parameters\u001b[1m)\u001b[22m\u001b[22m at \u001b[1m.\\In[7]:21\u001b[22m\u001b[22m\n",
      " [8] \u001b[1minclude_string\u001b[22m\u001b[22m\u001b[1m(\u001b[22m\u001b[22m::String, ::String\u001b[1m)\u001b[22m\u001b[22m at \u001b[1m.\\loading.jl:515\u001b[22m\u001b[22m\n",
      " [9] \u001b[1minclude_string\u001b[22m\u001b[22m\u001b[1m(\u001b[22m\u001b[22m::Module, ::String, ::String\u001b[1m)\u001b[22m\u001b[22m at \u001b[1mC:\\Users\\rm949\\.julia\\v0.6\\Compat\\src\\Compat.jl:478\u001b[22m\u001b[22m\n",
      " [10] \u001b[1mexecute_request\u001b[22m\u001b[22m\u001b[1m(\u001b[22m\u001b[22m::ZMQ.Socket, ::IJulia.Msg\u001b[1m)\u001b[22m\u001b[22m at \u001b[1mC:\\Users\\rm949\\.julia\\v0.6\\IJulia\\src\\execute_request.jl:154\u001b[22m\u001b[22m\n",
      " [11] \u001b[1meventloop\u001b[22m\u001b[22m\u001b[1m(\u001b[22m\u001b[22m::ZMQ.Socket\u001b[1m)\u001b[22m\u001b[22m at \u001b[1mC:\\Users\\rm949\\.julia\\v0.6\\IJulia\\src\\eventloop.jl:8\u001b[22m\u001b[22m\n",
      " [12] \u001b[1m(::IJulia.##14#17)\u001b[22m\u001b[22m\u001b[1m(\u001b[22m\u001b[22m\u001b[1m)\u001b[22m\u001b[22m at \u001b[1m.\\task.jl:335\u001b[22m\u001b[22m\n",
      "while loading In[8], in expression starting on line 5\n",
      "\u001b[1m\u001b[33mWARNING: \u001b[39m\u001b[22m\u001b[33mArray{T, N}(::Type{T}, d::NTuple{N, Int}) is deprecated, use Array{T}(d) instead.\u001b[39m\n",
      "Stacktrace:\n",
      " [1] \u001b[1mdepwarn\u001b[22m\u001b[22m\u001b[1m(\u001b[22m\u001b[22m::String, ::Symbol\u001b[1m)\u001b[22m\u001b[22m at \u001b[1m.\\deprecated.jl:70\u001b[22m\u001b[22m\n",
      " [2] \u001b[1mArray\u001b[22m\u001b[22m\u001b[1m(\u001b[22m\u001b[22m::Type{Float64}, ::Tuple{Int64,Int64}\u001b[1m)\u001b[22m\u001b[22m at \u001b[1m.\\deprecated.jl:57\u001b[22m\u001b[22m\n",
      " [3] \u001b[1mtranspose\u001b[22m\u001b[22m\u001b[1m(\u001b[22m\u001b[22m::ArrayViews.ContiguousView{Float64,2,Array{Float64,2}}\u001b[1m)\u001b[22m\u001b[22m at \u001b[1m.\\linalg\\transpose.jl:120\u001b[22m\u001b[22m\n",
      " [4] \u001b[1m/\u001b[22m\u001b[22m at \u001b[1m.\\linalg\\generic.jl:823\u001b[22m\u001b[22m [inlined]\n",
      " [5] \u001b[1mreconstruct!\u001b[22m\u001b[22m\u001b[1m(\u001b[22m\u001b[22m::AsymmetricSketch, ::Int64\u001b[1m)\u001b[22m\u001b[22m at \u001b[1m.\\In[1]:56\u001b[22m\u001b[22m\n",
      " [6] \u001b[1msolve_state!\u001b[22m\u001b[22m\u001b[1m(\u001b[22m\u001b[22m::Array{Float64,2}, ::AsymmetricSketch, ::parameters\u001b[1m)\u001b[22m\u001b[22m at \u001b[1m.\\In[5]:50\u001b[22m\u001b[22m\n",
      " [7] \u001b[1mminimize\u001b[22m\u001b[22m\u001b[1m(\u001b[22m\u001b[22m::Array{Float64,2}, ::parameters\u001b[1m)\u001b[22m\u001b[22m at \u001b[1m.\\In[7]:21\u001b[22m\u001b[22m\n",
      " [8] \u001b[1minclude_string\u001b[22m\u001b[22m\u001b[1m(\u001b[22m\u001b[22m::String, ::String\u001b[1m)\u001b[22m\u001b[22m at \u001b[1m.\\loading.jl:515\u001b[22m\u001b[22m\n",
      " [9] \u001b[1minclude_string\u001b[22m\u001b[22m\u001b[1m(\u001b[22m\u001b[22m::Module, ::String, ::String\u001b[1m)\u001b[22m\u001b[22m at \u001b[1mC:\\Users\\rm949\\.julia\\v0.6\\Compat\\src\\Compat.jl:478\u001b[22m\u001b[22m\n",
      " [10] \u001b[1mexecute_request\u001b[22m\u001b[22m\u001b[1m(\u001b[22m\u001b[22m::ZMQ.Socket, ::IJulia.Msg\u001b[1m)\u001b[22m\u001b[22m at \u001b[1mC:\\Users\\rm949\\.julia\\v0.6\\IJulia\\src\\execute_request.jl:154\u001b[22m\u001b[22m\n",
      " [11] \u001b[1meventloop\u001b[22m\u001b[22m\u001b[1m(\u001b[22m\u001b[22m::ZMQ.Socket\u001b[1m)\u001b[22m\u001b[22m at \u001b[1mC:\\Users\\rm949\\.julia\\v0.6\\IJulia\\src\\eventloop.jl:8\u001b[22m\u001b[22m\n",
      " [12] \u001b[1m(::IJulia.##14#17)\u001b[22m\u001b[22m\u001b[1m(\u001b[22m\u001b[22m\u001b[1m)\u001b[22m\u001b[22m at \u001b[1m.\\task.jl:335\u001b[22m\u001b[22m\n",
      "while loading In[8], in expression starting on line 5\n"
     ]
    },
    {
     "name": "stdout",
     "output_type": "stream",
     "text": [
      "Iteration 100\n",
      "current obj is - 0.3955584609851339\n",
      "Iteration 200\n",
      "current obj is - 0.3753589962352065\n",
      "Iteration 300\n",
      "current obj is - 0.35893116079176723\n",
      "Iteration 400\n",
      "current obj is - 0.3455429432615149\n",
      "Iteration 500\n",
      "current obj is - 0.3346048409528963\n",
      "Iteration 600\n",
      "current obj is - 0.32564210662867066\n",
      "Iteration 700\n",
      "current obj is - 0.31827240050274186\n",
      "Iteration 800\n",
      "current obj is - 0.31218779472725317\n",
      "Iteration 900\n",
      "current obj is - 0.3071402826573423\n",
      "Iteration 1000\n",
      "current obj is - 0.30293011028854805\n"
     ]
    },
    {
     "data": {
      "text/plain": [
       "([-2.60125 -4.75481 … 0.00022065 0.000414545; -4.26409 -6.41783 … -0.00377753 -0.000414545], AsymmetricSketch(20, [-0.982822 1.71879 … 0.383182 1.88125; -0.37417 -1.34338 … 1.64231 0.597586; … ; -0.0765099 -0.41857 … 1.21813 2.22491; -1.08849 -0.255051 … 0.326424 1.60289], [-0.961265 1.24848 … 0.955724 1.81124; 0.538521 0.322795 … -0.329199 1.17679; … ; -0.389124 0.000966153 … 1.19364 0.203912; 0.428296 0.251195 … -0.37514 -0.319235], [-1.75085 -7.41232 … 13.2958 -8.43908; -1.7098 -7.46709 … 13.3184 -8.47299; … ; 0.472228 -7.86409 … 13.5865 -7.11654; 0.440786 -7.81444 … 13.5654 -7.08302], [7.47809 41.4134 … -10.341 4.02569; 3.37925 20.0589 … -6.04587 3.05314; … ; 0.629656 2.61765 … -2.00586 2.79066; 0.0 0.0 … 0.0 0.0], [-0.0206419 -0.0336868 … -0.0443832 0.0395259; -0.0201579 -0.034944 … -0.0314808 0.0258109; … ; 0.00556738 -0.0792487 … 0.0439609 -0.0263098; 0.0051967 -0.0782169 … 0.0463767 -0.0420147], [-43.5235 -21.5548 … -2.84185 -0.0; -1.31486 -1.00472 … -1.14649 -0.0; … ; 7.14327e-9 -1.97029e-8 … -1.94778e-8 -0.0; 2.23842e-10 -1.65507e-9 … 9.97663e-10 -0.0], true), 0.3028916642781986, Any[0.420163, 0.419888, 0.419614, 0.41934, 0.419067, 0.418794, 0.418522, 0.418251, 0.41798, 0.41771  …  0.303279, 0.30324, 0.303201, 0.303162, 0.303123, 0.303085, 0.303046, 0.303007, 0.302969, 0.30293])"
      ]
     },
     "execution_count": 8,
     "metadata": {},
     "output_type": "execute_result"
    }
   ],
   "source": [
    "p = parameters(1000,1200)\n",
    "z0 = zeros(2,p.nT)*1e-4\n",
    "\n",
    "\n",
    "z,U,val,values = minimize(z0,p)"
   ]
  },
  {
   "cell_type": "code",
   "execution_count": 9,
   "metadata": {},
   "outputs": [],
   "source": [
    "using Plots"
   ]
  },
  {
   "cell_type": "code",
   "execution_count": 10,
   "metadata": {},
   "outputs": [],
   "source": [
    "using PyPlot"
   ]
  },
  {
   "cell_type": "code",
   "execution_count": null,
   "metadata": {},
   "outputs": [],
   "source": [
    "y = z'[:,1]\n",
    "y[2]"
   ]
  },
  {
   "cell_type": "code",
   "execution_count": null,
   "metadata": {},
   "outputs": [],
   "source": [
    "t = linspace(0,1,p.nT); y = z'[:,1]\n",
    "pl = PyPlot.plot(t,y)"
   ]
  },
  {
   "cell_type": "code",
   "execution_count": null,
   "metadata": {},
   "outputs": [],
   "source": [
    "x = linspace(0,1,p.nX); y = hcat(col(U,160),w(p.d,160))\n",
    "pl = PyPlot.plot(x,y)"
   ]
  },
  {
   "cell_type": "code",
   "execution_count": null,
   "metadata": {
    "collapsed": true
   },
   "outputs": [],
   "source": [
    "x = linspace(0,1,p.nX); y = col(U,100)\n",
    "pl = PyPlot.plot(x,y)"
   ]
  },
  {
   "cell_type": "code",
   "execution_count": null,
   "metadata": {},
   "outputs": [],
   "source": [
    "x = collect(1:1000)\n",
    "y = values\n",
    "PyPlot.plot(x,y)"
   ]
  },
  {
   "cell_type": "code",
   "execution_count": 11,
   "metadata": {},
   "outputs": [],
   "source": [
    "using JLD\n",
    "\n",
    "save(\"nsketch3-state.jld\", \"data\", U)\n",
    "save(\"nsketch3-control.jld\", \"data\", z)\n",
    "save(\"nsketch3-values.jld\",\"data\",values)"
   ]
  },
  {
   "cell_type": "code",
   "execution_count": null,
   "metadata": {
    "collapsed": true
   },
   "outputs": [],
   "source": [
    "using JLD"
   ]
  },
  {
   "cell_type": "code",
   "execution_count": 12,
   "metadata": {},
   "outputs": [
    {
     "data": {
      "text/plain": [
       "(1000,)"
      ]
     },
     "execution_count": 12,
     "metadata": {},
     "output_type": "execute_result"
    }
   ],
   "source": [
    "size(values)"
   ]
  },
  {
   "cell_type": "code",
   "execution_count": 13,
   "metadata": {
    "collapsed": true
   },
   "outputs": [],
   "source": [
    "d1 = load(\"values2.jld\");\n",
    "D1 = d1[\"data\"] - ones(1000);\n",
    "d2 = load(\"sketch2-values.jld\");\n",
    "D2 = d2[\"data\"];\n",
    "d3 = load(\"nsketch3-values.jld\");\n",
    "D3 = d3[\"data\"];"
   ]
  },
  {
   "cell_type": "code",
   "execution_count": 25,
   "metadata": {},
   "outputs": [
    {
     "data": {
      "text/plain": [
       "(1000,)"
      ]
     },
     "execution_count": 25,
     "metadata": {},
     "output_type": "execute_result"
    }
   ],
   "source": [
    "size(D3)"
   ]
  },
  {
   "cell_type": "code",
   "execution_count": null,
   "metadata": {},
   "outputs": [],
   "source": [
    "D3[1:10]"
   ]
  },
  {
   "cell_type": "code",
   "execution_count": 23,
   "metadata": {},
   "outputs": [
    {
     "data": {
      "text/plain": [
       "0.0010542852478266727"
      ]
     },
     "execution_count": 23,
     "metadata": {},
     "output_type": "execute_result"
    }
   ],
   "source": [
    "diff = D3-D1\n",
    "norm(diff)"
   ]
  },
  {
   "cell_type": "code",
   "execution_count": 17,
   "metadata": {},
   "outputs": [
    {
     "data": {
      "image/png": "[encoded data removed]",
      "text/plain": [
       "PyPlot.Figure(PyObject <matplotlib.figure.Figure object at 0x000000003B1F6160>)"
      ]
     },
     "metadata": {},
     "output_type": "display_data"
    },
    {
     "data": {
      "text/plain": [
       "1-element Array{PyCall.PyObject,1}:\n",
       " PyObject <matplotlib.lines.Line2D object at 0x000000003B48C908>"
      ]
     },
     "execution_count": 17,
     "metadata": {},
     "output_type": "execute_result"
    }
   ],
   "source": [
    "x = collect(1:1000)\n",
    "y = D3-D2\n",
    "PyPlot.plot(x,y)\n"
   ]
  },
  {
   "cell_type": "code",
   "execution_count": null,
   "metadata": {},
   "outputs": [],
   "source": [
    "x = collect(1:1000)\n",
    "y = hcat(D3,D1)\n",
    "PyPlot.plot(x,y)\n"
   ]
  },
  {
   "cell_type": "code",
   "execution_count": 26,
   "metadata": {},
   "outputs": [
    {
     "data": {
      "image/png": "[encoded data removed]",
      "text/plain": [
       "PyPlot.Figure(PyObject <matplotlib.figure.Figure object at 0x000000003BD4DE10>)"
      ]
     },
     "metadata": {},
     "output_type": "display_data"
    },
    {
     "name": "stdout",
     "output_type": "stream",
     "text": [
      "(1000, 2)\n"
     ]
    }
   ],
   "source": [
    "x = collect(1:1000)\n",
    "y = hcat(D3,D1)\n",
    "println(\"$(size(y))\")\n",
    "#l = ['sketched' 'non-sketched']\n",
    "fig = figure(\"pyplot_annotation\")\n",
    "#PyPlot.plot(x,y)\n",
    "\n",
    "pl = PyPlot.plot(x,values,label=\"new-sketch\",lw=2)\n",
    "#push!(pl,PyPlot.plot(x,D2,label=\"sketched\",lw=2))\n",
    "push!(pl,PyPlot.plot(x,D2,label=\"non-sketched\",lw=2))\n",
    "\n",
    "PyPlot.grid(\"on\")\n",
    "ax = axes()\n",
    "ax[:set_ylim]([0.28,0.43])\n",
    "legend(loc=\"upper right\",fancybox=\"true\") # Create a legend of all the existing plots using their labels as names\n",
    "title(\"Convergence\")\n",
    "xlabel(\"Iterations\")\n",
    "ylabel(\"Objective Function\")\n",
    "fig[:canvas][:draw]() # Update the figure\n",
    "#gcf() # Needed for IJulia to plot inline"
   ]
  },
  {
   "cell_type": "code",
   "execution_count": null,
   "metadata": {},
   "outputs": [],
   "source": [
    "d1 = load(\"control2.jld\")\n",
    "zd1 = d1[\"data\"]\n",
    "\n",
    "d2 = load(\"sketch2-control.jld\")\n",
    "zd2 = d2[\"data\"]\n",
    "\n",
    "p=parameters(1000,1200);\n",
    "t = linspace(0,1,p.nT); \n",
    "\n",
    "\n",
    "#l = ['sketched' 'non-sketched']\n",
    "fig = figure(\"pyplot_annotation\")\n",
    "#PyPlot.plot(x,y)\n",
    "\n",
    "pl = PyPlot.plot(t,zd2'[:,1],color=:green,label=\"sketched at x = 0\",lw=2)\n",
    "push!(pl,PyPlot.plot(t,zd2'[:,2],color=:green,label=\"sketched at x = 1\",lw=2))\n",
    "push!(pl,PyPlot.plot(t,zd1'[:,1],color=:blue,label=\"non-sketched at x = 0\",lw=2))\n",
    "push!(pl,PyPlot.plot(t,zd1'[:,2],color=:blue,label=\"non-sketched at x = 1\",lw=2))\n",
    "\n",
    "PyPlot.grid(\"on\")\n",
    "legend(loc=\"lower right\",fancybox=\"true\") # Create a legend of all the existing plots using their labels as names\n",
    "title(\"Control at Boundary\")\n",
    "xlabel(\"Time\")\n",
    "ylabel(\"Control\")\n",
    "fig[:canvas][:draw]() # Update the figure\n",
    "#gcf() # Needed for IJulia to plot inline\n",
    "\n"
   ]
  },
  {
   "cell_type": "code",
   "execution_count": null,
   "metadata": {
    "collapsed": true
   },
   "outputs": [],
   "source": [
    "d10 = load(\"values.jld\");\n",
    "D10 = d10[\"data\"] - ones(2000);\n",
    "D101 = D10[1:1000] \n",
    "d20 = load(\"sketch-values.jld\");\n",
    "D20 = d20[\"data\"];\n",
    "D201 = D20[1:1000]"
   ]
  },
  {
   "cell_type": "code",
   "execution_count": null,
   "metadata": {},
   "outputs": [],
   "source": [
    "x = collect(1:1000)\n",
    "y = hcat(D201,D101)\n",
    "println(\"$(size(y))\")\n",
    "#l = ['sketched' 'non-sketched']\n",
    "fig = figure(\"pyplot_annotation\")\n",
    "#PyPlot.plot(x,y)\n",
    "\n",
    "pl = PyPlot.plot(x,D201,label=\"sketched\",lw=2)\n",
    "push!(pl,PyPlot.plot(x,D101,label=\"non-sketched\",lw=2))\n",
    "\n",
    "PyPlot.grid(\"on\")\n",
    "legend(loc=\"upper right\",fancybox=\"true\") # Create a legend of all the existing plots using their labels as names\n",
    "title(\"Convergence\")\n",
    "xlabel(\"Iterations\")\n",
    "ylabel(\"Objective Function\")\n",
    "fig[:canvas][:draw]() # Update the figure\n",
    "#gcf() # Needed for IJulia to plot inline"
   ]
  },
  {
   "cell_type": "code",
   "execution_count": 27,
   "metadata": {},
   "outputs": [
    {
     "name": "stderr",
     "output_type": "stream",
     "text": [
      "\u001b[1m\u001b[33mWARNING: \u001b[39m\u001b[22m\u001b[33mArray{T, N}(::Type{T}, d::NTuple{N, Int}) is deprecated, use Array{T}(d) instead.\u001b[39m\n",
      "Stacktrace:\n",
      " [1] \u001b[1mdepwarn\u001b[22m\u001b[22m\u001b[1m(\u001b[22m\u001b[22m::String, ::Symbol\u001b[1m)\u001b[22m\u001b[22m at \u001b[1m.\\deprecated.jl:70\u001b[22m\u001b[22m\n",
      " [2] \u001b[1mArray\u001b[22m\u001b[22m\u001b[1m(\u001b[22m\u001b[22m::Type{Float64}, ::Tuple{Int64,Int64}\u001b[1m)\u001b[22m\u001b[22m at \u001b[1m.\\deprecated.jl:57\u001b[22m\u001b[22m\n",
      " [3] \u001b[1mqrfact\u001b[22m\u001b[22m\u001b[1m(\u001b[22m\u001b[22m::ArrayViews.ContiguousView{Float64,2,Array{Float64,2}}, ::Type{T} where T\u001b[1m)\u001b[22m\u001b[22m at \u001b[1m.\\linalg\\qr.jl:274\u001b[22m\u001b[22m\n",
      " [4] \u001b[1m#_qr#30\u001b[22m\u001b[22m at \u001b[1m.\\linalg\\qr.jl:296\u001b[22m\u001b[22m [inlined]\n",
      " [5] \u001b[1m(::Base.LinAlg.#kw##_qr)\u001b[22m\u001b[22m\u001b[1m(\u001b[22m\u001b[22m::Array{Any,1}, ::Base.LinAlg.#_qr, ::ArrayViews.ContiguousView{Float64,2,Array{Float64,2}}, ::Type{Val{false}}\u001b[1m)\u001b[22m\u001b[22m at \u001b[1m.\\<missing>:0\u001b[22m\u001b[22m\n",
      " [6] \u001b[1mreconstruct!\u001b[22m\u001b[22m\u001b[1m(\u001b[22m\u001b[22m::AsymmetricSketch, ::Int64\u001b[1m)\u001b[22m\u001b[22m at \u001b[1m.\\In[1]:55\u001b[22m\u001b[22m\n",
      " [7] \u001b[1msolve_state!\u001b[22m\u001b[22m\u001b[1m(\u001b[22m\u001b[22m::Array{Float64,2}, ::AsymmetricSketch, ::parameters\u001b[1m)\u001b[22m\u001b[22m at \u001b[1m.\\In[5]:50\u001b[22m\u001b[22m\n",
      " [8] \u001b[1mminimize\u001b[22m\u001b[22m\u001b[1m(\u001b[22m\u001b[22m::Array{Float64,2}, ::parameters\u001b[1m)\u001b[22m\u001b[22m at \u001b[1m.\\In[7]:21\u001b[22m\u001b[22m\n",
      " [9] \u001b[1minclude_string\u001b[22m\u001b[22m\u001b[1m(\u001b[22m\u001b[22m::String, ::String\u001b[1m)\u001b[22m\u001b[22m at \u001b[1m.\\loading.jl:515\u001b[22m\u001b[22m\n",
      " [10] \u001b[1minclude_string\u001b[22m\u001b[22m\u001b[1m(\u001b[22m\u001b[22m::Module, ::String, ::String\u001b[1m)\u001b[22m\u001b[22m at \u001b[1mC:\\Users\\rm949\\.julia\\v0.6\\Compat\\src\\Compat.jl:478\u001b[22m\u001b[22m\n",
      " [11] \u001b[1mexecute_request\u001b[22m\u001b[22m\u001b[1m(\u001b[22m\u001b[22m::ZMQ.Socket, ::IJulia.Msg\u001b[1m)\u001b[22m\u001b[22m at \u001b[1mC:\\Users\\rm949\\.julia\\v0.6\\IJulia\\src\\execute_request.jl:154\u001b[22m\u001b[22m\n",
      " [12] \u001b[1meventloop\u001b[22m\u001b[22m\u001b[1m(\u001b[22m\u001b[22m::ZMQ.Socket\u001b[1m)\u001b[22m\u001b[22m at \u001b[1mC:\\Users\\rm949\\.julia\\v0.6\\IJulia\\src\\eventloop.jl:8\u001b[22m\u001b[22m\n",
      " [13] \u001b[1m(::IJulia.##14#17)\u001b[22m\u001b[22m\u001b[1m(\u001b[22m\u001b[22m\u001b[1m)\u001b[22m\u001b[22m at \u001b[1m.\\task.jl:335\u001b[22m\u001b[22m\n",
      "while loading In[27], in expression starting on line 5\n",
      "\u001b[1m\u001b[33mWARNING: \u001b[39m\u001b[22m\u001b[33mArray{T, N}(::Type{T}, d::NTuple{N, Int}) is deprecated, use Array{T}(d) instead.\u001b[39m\n",
      "Stacktrace:\n",
      " [1] \u001b[1mdepwarn\u001b[22m\u001b[22m\u001b[1m(\u001b[22m\u001b[22m::String, ::Symbol\u001b[1m)\u001b[22m\u001b[22m at \u001b[1m.\\deprecated.jl:70\u001b[22m\u001b[22m\n",
      " [2] \u001b[1mArray\u001b[22m\u001b[22m\u001b[1m(\u001b[22m\u001b[22m::Type{Float64}, ::Tuple{Int64,Int64}\u001b[1m)\u001b[22m\u001b[22m at \u001b[1m.\\deprecated.jl:57\u001b[22m\u001b[22m\n",
      " [3] \u001b[1mAt_mul_B\u001b[22m\u001b[22m at \u001b[1m.\\linalg\\matmul.jl:182\u001b[22m\u001b[22m [inlined]\n",
      " [4] \u001b[1mAc_mul_B\u001b[22m\u001b[22m at \u001b[1m.\\linalg\\matmul.jl:211\u001b[22m\u001b[22m [inlined]\n",
      " [5] \u001b[1mreconstruct!\u001b[22m\u001b[22m\u001b[1m(\u001b[22m\u001b[22m::AsymmetricSketch, ::Int64\u001b[1m)\u001b[22m\u001b[22m at \u001b[1m.\\In[1]:56\u001b[22m\u001b[22m\n",
      " [6] \u001b[1msolve_state!\u001b[22m\u001b[22m\u001b[1m(\u001b[22m\u001b[22m::Array{Float64,2}, ::AsymmetricSketch, ::parameters\u001b[1m)\u001b[22m\u001b[22m at \u001b[1m.\\In[5]:50\u001b[22m\u001b[22m\n",
      " [7] \u001b[1mminimize\u001b[22m\u001b[22m\u001b[1m(\u001b[22m\u001b[22m::Array{Float64,2}, ::parameters\u001b[1m)\u001b[22m\u001b[22m at \u001b[1m.\\In[7]:21\u001b[22m\u001b[22m\n",
      " [8] \u001b[1minclude_string\u001b[22m\u001b[22m\u001b[1m(\u001b[22m\u001b[22m::String, ::String\u001b[1m)\u001b[22m\u001b[22m at \u001b[1m.\\loading.jl:515\u001b[22m\u001b[22m\n",
      " [9] \u001b[1minclude_string\u001b[22m\u001b[22m\u001b[1m(\u001b[22m\u001b[22m::Module, ::String, ::String\u001b[1m)\u001b[22m\u001b[22m at \u001b[1mC:\\Users\\rm949\\.julia\\v0.6\\Compat\\src\\Compat.jl:478\u001b[22m\u001b[22m\n",
      " [10] \u001b[1mexecute_request\u001b[22m\u001b[22m\u001b[1m(\u001b[22m\u001b[22m::ZMQ.Socket, ::IJulia.Msg\u001b[1m)\u001b[22m\u001b[22m at \u001b[1mC:\\Users\\rm949\\.julia\\v0.6\\IJulia\\src\\execute_request.jl:154\u001b[22m\u001b[22m\n",
      " [11] \u001b[1meventloop\u001b[22m\u001b[22m\u001b[1m(\u001b[22m\u001b[22m::ZMQ.Socket\u001b[1m)\u001b[22m\u001b[22m at \u001b[1mC:\\Users\\rm949\\.julia\\v0.6\\IJulia\\src\\eventloop.jl:8\u001b[22m\u001b[22m\n",
      " [12] \u001b[1m(::IJulia.##14#17)\u001b[22m\u001b[22m\u001b[1m(\u001b[22m\u001b[22m\u001b[1m)\u001b[22m\u001b[22m at \u001b[1m.\\task.jl:335\u001b[22m\u001b[22m\n",
      "while loading In[27], in expression starting on line 5\n",
      "\u001b[1m\u001b[33mWARNING: \u001b[39m\u001b[22m\u001b[33mArray{T, N}(::Type{T}, d::NTuple{N, Int}) is deprecated, use Array{T}(d) instead.\u001b[39m\n",
      "Stacktrace:\n",
      " [1] \u001b[1mdepwarn\u001b[22m\u001b[22m\u001b[1m(\u001b[22m\u001b[22m::String, ::Symbol\u001b[1m)\u001b[22m\u001b[22m at \u001b[1m.\\deprecated.jl:70\u001b[22m\u001b[22m\n",
      " [2] \u001b[1mArray\u001b[22m\u001b[22m\u001b[1m(\u001b[22m\u001b[22m::Type{Float64}, ::Tuple{Int64,Int64}\u001b[1m)\u001b[22m\u001b[22m at \u001b[1m.\\deprecated.jl:57\u001b[22m\u001b[22m\n",
      " [3] \u001b[1mtranspose\u001b[22m\u001b[22m\u001b[1m(\u001b[22m\u001b[22m::ArrayViews.ContiguousView{Float64,2,Array{Float64,2}}\u001b[1m)\u001b[22m\u001b[22m at \u001b[1m.\\linalg\\transpose.jl:120\u001b[22m\u001b[22m\n",
      " [4] \u001b[1m/\u001b[22m\u001b[22m at \u001b[1m.\\linalg\\generic.jl:823\u001b[22m\u001b[22m [inlined]\n",
      " [5] \u001b[1mreconstruct!\u001b[22m\u001b[22m\u001b[1m(\u001b[22m\u001b[22m::AsymmetricSketch, ::Int64\u001b[1m)\u001b[22m\u001b[22m at \u001b[1m.\\In[1]:56\u001b[22m\u001b[22m\n",
      " [6] \u001b[1msolve_state!\u001b[22m\u001b[22m\u001b[1m(\u001b[22m\u001b[22m::Array{Float64,2}, ::AsymmetricSketch, ::parameters\u001b[1m)\u001b[22m\u001b[22m at \u001b[1m.\\In[5]:50\u001b[22m\u001b[22m\n",
      " [7] \u001b[1mminimize\u001b[22m\u001b[22m\u001b[1m(\u001b[22m\u001b[22m::Array{Float64,2}, ::parameters\u001b[1m)\u001b[22m\u001b[22m at \u001b[1m.\\In[7]:21\u001b[22m\u001b[22m\n",
      " [8] \u001b[1minclude_string\u001b[22m\u001b[22m\u001b[1m(\u001b[22m\u001b[22m::String, ::String\u001b[1m)\u001b[22m\u001b[22m at \u001b[1m.\\loading.jl:515\u001b[22m\u001b[22m\n",
      " [9] \u001b[1minclude_string\u001b[22m\u001b[22m\u001b[1m(\u001b[22m\u001b[22m::Module, ::String, ::String\u001b[1m)\u001b[22m\u001b[22m at \u001b[1mC:\\Users\\rm949\\.julia\\v0.6\\Compat\\src\\Compat.jl:478\u001b[22m\u001b[22m\n",
      " [10] \u001b[1mexecute_request\u001b[22m\u001b[22m\u001b[1m(\u001b[22m\u001b[22m::ZMQ.Socket, ::IJulia.Msg\u001b[1m)\u001b[22m\u001b[22m at \u001b[1mC:\\Users\\rm949\\.julia\\v0.6\\IJulia\\src\\execute_request.jl:154\u001b[22m\u001b[22m\n",
      " [11] \u001b[1meventloop\u001b[22m\u001b[22m\u001b[1m(\u001b[22m\u001b[22m::ZMQ.Socket\u001b[1m)\u001b[22m\u001b[22m at \u001b[1mC:\\Users\\rm949\\.julia\\v0.6\\IJulia\\src\\eventloop.jl:8\u001b[22m\u001b[22m\n",
      " [12] \u001b[1m(::IJulia.##14#17)\u001b[22m\u001b[22m\u001b[1m(\u001b[22m\u001b[22m\u001b[1m)\u001b[22m\u001b[22m at \u001b[1m.\\task.jl:335\u001b[22m\u001b[22m\n",
      "while loading In[27], in expression starting on line 5\n"
     ]
    },
    {
     "name": "stdout",
     "output_type": "stream",
     "text": [
      "Iteration 100\n",
      "current obj is - 0.3687479076413735\n",
      "Iteration 200\n",
      "current obj is - 0.33694852122383046\n",
      "Iteration 300\n",
      "current obj is - 0.31723648110060376\n",
      "Iteration 400\n",
      "current obj is - 0.30475107352609665\n",
      "Iteration 500\n",
      "current obj is - 0.2965963301843464\n",
      "Iteration 600\n",
      "current obj is - 0.2910463201571225\n",
      "Iteration 700\n",
      "current obj is - 0.2870719417777648\n",
      "Iteration 800\n",
      "current obj is - 0.28405914224520024\n",
      "Iteration 900\n",
      "current obj is - 0.28164111931861235\n",
      "Iteration 1000\n",
      "current obj is - 0.27959839302187584\n"
     ]
    },
    {
     "data": {
      "text/plain": [
       "([-4.26619 -7.40996 … 0.0123169 0.00356637; -8.0356 -11.2887 … -0.0211044 -0.00356637], AsymmetricSketch(20, [0.100925 0.0148215 … -0.699619 0.187103; -1.86303 0.544848 … -0.233148 0.358259; … ; -0.0182949 0.476524 … 0.376454 0.508598; -1.95445 2.49848 … 0.868725 -1.02865], [0.290011 -0.683953 … -1.07189 -0.514276; 0.556382 1.18186 … 0.70642 -0.949383; … ; 2.13397 0.461751 … -0.820755 -1.36035; 0.154366 -0.116111 … -1.03478 0.564277], [-4.37992 -1.26423 … -6.80273 1.1277; -4.30879 -1.49324 … -6.86002 1.11291; … ; -3.20319 -7.31192 … -10.809 3.77651; -3.2545 -7.18146 … -10.7995 3.78836], [40.5724 -17.1644 … 14.0517 2.07455; 19.857 -8.43832 … 6.64462 0.696054; … ; -1.85645 -0.198669 … -0.299792 0.415938; 0.0 0.0 … 0.0 0.0], [-0.0451585 -0.0595179 … -0.0113552 0.104952; -0.0444251 -0.0506584 … 0.0132849 -0.0557701; … ; -0.033026 0.158497 … -0.0154389 0.0647044; -0.033555 0.153205 … 0.0131874 -0.121881], [-21.5888 -10.6328 … 0.996956 0.0; -1.54755 -0.619836 … -0.4945 0.0; … ; -1.31126e-10 -1.44876e-10 … -1.51082e-10 0.0; 4.21865e-10 -1.63028e-10 … 1.74698e-10 0.0], true), 0.2795793627518436, Any[0.420135, 0.419479, 0.418826, 0.418176, 0.41753, 0.416887, 0.416247, 0.41561, 0.414976, 0.414346  …  0.279771, 0.279752, 0.279732, 0.279713, 0.279694, 0.279675, 0.279656, 0.279637, 0.279617, 0.279598])"
      ]
     },
     "execution_count": 27,
     "metadata": {},
     "output_type": "execute_result"
    }
   ],
   "source": [
    "p = parameters(256,502)\n",
    "z0 = zeros(2,p.nT)*1e-4\n",
    "\n",
    "\n",
    "z1,U1,val1,values1 = minimize(z0,p)"
   ]
  },
  {
   "cell_type": "code",
   "execution_count": 28,
   "metadata": {
    "collapsed": true
   },
   "outputs": [],
   "source": [
    "save(\"nsketch1-state.jld\", \"data\", U1)\n",
    "save(\"nsketch1-control.jld\", \"data\", z1)\n",
    "save(\"nsketch1-values.jld\",\"data\",values1)"
   ]
  },
  {
   "cell_type": "code",
   "execution_count": 32,
   "metadata": {},
   "outputs": [
    {
     "data": {
      "text/plain": [
       "-0.06388283743994577"
      ]
     },
     "execution_count": 32,
     "metadata": {},
     "output_type": "execute_result"
    }
   ],
   "source": [
    "d10 = load(\"values.jld\");\n",
    "D10 = d10[\"data\"] - ones(2000);\n",
    "D101 = D10[1:1000] \n",
    "d20 = load(\"nsketch1-values.jld\");\n",
    "D20 = d20[\"data\"];\n",
    "D201 = D20[1:1000]\n",
    "\n",
    "diff1 = D101 - D201\n",
    "sum(diff1)"
   ]
  },
  {
   "cell_type": "code",
   "execution_count": 30,
   "metadata": {},
   "outputs": [
    {
     "data": {
      "image/png": "[encoded data removed]",
      "text/plain": [
       "PyPlot.Figure(PyObject <matplotlib.figure.Figure object at 0x000000003B755B70>)"
      ]
     },
     "metadata": {},
     "output_type": "display_data"
    },
    {
     "name": "stdout",
     "output_type": "stream",
     "text": [
      "(1000, 2)\n"
     ]
    }
   ],
   "source": [
    "x = collect(1:1000)\n",
    "y = hcat(D201,D101)\n",
    "println(\"$(size(y))\")\n",
    "#l = ['sketched' 'non-sketched']\n",
    "fig = figure(\"pyplot_annotation\")\n",
    "#PyPlot.plot(x,y)\n",
    "\n",
    "pl = PyPlot.plot(x,D201,label=\"sketched\",lw=2)\n",
    "push!(pl,PyPlot.plot(x,D101,label=\"non-sketched\",lw=2))\n",
    "\n",
    "PyPlot.grid(\"on\")\n",
    "legend(loc=\"upper right\",fancybox=\"true\") # Create a legend of all the existing plots using their labels as names\n",
    "title(\"Convergence\")\n",
    "xlabel(\"Iterations\")\n",
    "ylabel(\"Objective Function\")\n",
    "fig[:canvas][:draw]() # Update the figure\n",
    "#gcf() # Needed for IJulia to plot inline"
   ]
  },
  {
   "cell_type": "code",
   "execution_count": null,
   "metadata": {
    "collapsed": true
   },
   "outputs": [],
   "source": []
  }
 ],
 "metadata": {
  "anaconda-cloud": {},
  "kernelspec": {
   "display_name": "Julia 0.6.0",
   "language": "julia",
   "name": "julia-0.6"
  },
  "language_info": {
   "file_extension": ".jl",
   "mimetype": "application/julia",
   "name": "julia",
   "version": "0.6.0"
  }
 },
 "nbformat": 4,
 "nbformat_minor": 1
}
