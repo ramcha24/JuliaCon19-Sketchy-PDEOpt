{
 "cells": [
  {
   "cell_type": "code",
   "execution_count": 1,
   "metadata": {
    "collapsed": true
   },
   "outputs": [],
   "source": [
    "using BandedMatrices\n",
    "\n"
   ]
  },
  {
   "cell_type": "code",
   "execution_count": 2,
   "metadata": {},
   "outputs": [
    {
     "data": {
      "text/plain": [
       "Nu_deriv (generic function with 1 method)"
      ]
     },
     "execution_count": 2,
     "metadata": {},
     "output_type": "execute_result"
    }
   ],
   "source": [
    "type parameters\n",
    "    nX :: Int # Number of spatial mesh points\n",
    "    nT :: Int # Number of timesteps\n",
    "    nU :: Int # Number of state variables per time step\n",
    "    nZ :: Int # Number of control variables per time step\n",
    "    theta :: Float64 # time-stepping parameter\n",
    "    gamma :: Float64 # Viscosity Parameter\n",
    "    omega :: Float64 # Control Penalty Parameter\n",
    "    \n",
    "    dx :: Float64 # Difference between any two mesh nodes, (= h)\n",
    "    x :: Array{Float64,1} # Mesh nodes. \n",
    "    dt :: Float64 # Difference between any two time steps\n",
    "    t :: Array{Float64,1} # Time steps \n",
    "    \n",
    "    #u0 :: Array{Float64,1} # State at time 0. Coded as function\n",
    "    #z0 :: Array{Float64,2} # Initial guess for Control\n",
    "    #w :: Array{Float64,2} # Desired state. Coded as function\n",
    "    r :: Array{Float64,2} # Problem Data.\n",
    "    g :: Array{Float64,2} # Problem Data\n",
    "    \n",
    "    M :: SymTridiagonal{Float64} # Mass Matrix\n",
    "    A :: SymTridiagonal{Float64} # Stiffness Matrix \n",
    "    B :: BandedMatrix{Float64}  \n",
    "    Q :: SymTridiagonal{Float64}  \n",
    "    \n",
    "    G :: SymTridiagonal{Float64} \n",
    "    H :: SymTridiagonal{Float64}\n",
    "    \n",
    "    function parameters(nX = 80, nT = 80, theta = 0.5, gamma = 0.05, omega = 1e-2)\n",
    "        nU = nX - 1\n",
    "        nZ = nX + 1\n",
    "        dx = 1/nX\n",
    "        x = Array(linspace(0,1,nX))\n",
    "        dt = 1/nT\n",
    "        t = Array(linspace(0,1,nT))\n",
    "        \n",
    "        r = zeros(nX-1,nT+1)\n",
    "        g = zeros(nX-1,nT+1)\n",
    "        nX2 = Int(floor(nX/2))\n",
    "        g[1:nX2,:] = -dx*ones(nX2,nT+1)\n",
    "        \n",
    "        M,A,B,Q = buildFEM(nX,gamma)\n",
    "    \n",
    "        G = theta*dt*A + M\n",
    "        H = theta*dt*A - M\n",
    "        \n",
    "        new(nX,nT,nU,nZ,theta,gamma,omega,dx,x,dt,t,r,g,M,A,B,Q,G,H)\n",
    "    end \n",
    "end \n",
    "\n",
    "function w(x::Float64, t::Float64)\n",
    "    if(x<=1/2) return 1 end\n",
    "    return 0\n",
    "end \n",
    "\n",
    "#function r(x::Float64, t::Float64)\n",
    "#    return 0\n",
    "#end \n",
    "\n",
    "function u0(x::Float64)\n",
    "    return w(x,0)\n",
    "end\n",
    "\n",
    "function Nu(u::Array{Float64,1})\n",
    "    len = length(u)\n",
    "    val = zeros(size(u))\n",
    "    \n",
    "    val[1] = u[1]*u[2] + u[2]^2\n",
    "    \n",
    "    for i in 2:len-1\n",
    "        val[i] = -u[i-1]^2 + - u[i-1]*u[i] + u[i]*u[i+1]+u[i+1]^2\n",
    "    end\n",
    "    \n",
    "    val[len] = -u[len-1]^2 - u[len-1]*u[len]\n",
    "    \n",
    "    val /= 6\n",
    "    \n",
    "    return val        \n",
    "end\n",
    "\n",
    "function Nu_deriv(u::Array{Float64,1})\n",
    "    len = length(u)\n",
    "    \n",
    "    dl = -2*u[1:len-1] - u[2:len]\n",
    "    \n",
    "    d = zeros(len)\n",
    "    d[1] = u[2]\n",
    "    d[2:len-1] = u[3:len] - u[1:len-2]\n",
    "    d[len] = -u[len-1]\n",
    "    \n",
    "    du = u[1:len-1] + 2*u[2:len] \n",
    "    \n",
    "    val = Tridiagonal(dl,d,du)\n",
    "    \n",
    "    return val\n",
    "end \n"
   ]
  },
  {
   "cell_type": "code",
   "execution_count": 3,
   "metadata": {},
   "outputs": [
    {
     "data": {
      "text/plain": [
       "buildFEM (generic function with 1 method)"
      ]
     },
     "execution_count": 3,
     "metadata": {},
     "output_type": "execute_result"
    }
   ],
   "source": [
    "function buildFEM(n::Int, gamma::Float64)\n",
    "    h = 1/n\n",
    "\n",
    "    o = h/6*ones(n-2)\n",
    "    d = 4*h/6*ones(n-1)\n",
    "    M = SymTridiagonal(d,o)\n",
    "    \n",
    "    o = (-gamma/h)*ones(n-2)\n",
    "    d = ((2*gamma)/h)*ones(n-1)\n",
    "    A = SymTridiagonal(d,o)\n",
    "    \n",
    "    B = bones(Float64,n-1,n+1,0,2)\n",
    "    for i in 1:n-1\n",
    "        B[i,i+1] = 4\n",
    "    end \n",
    "    B = (-h/6)*B\n",
    "    \n",
    "    o = h/6*ones(n)\n",
    "    d = 4*h/6*ones(n+1)\n",
    "    d[1]   = 2*h/6\n",
    "    d[n+1] = 2*h/6\n",
    "    Q = SymTridiagonal(d,o)\n",
    "    \n",
    "    return M,A,B,Q\n",
    "end "
   ]
  },
  {
   "cell_type": "code",
   "execution_count": 12,
   "metadata": {},
   "outputs": [
    {
     "data": {
      "text/plain": [
       "solve_state! (generic function with 1 method)"
      ]
     },
     "execution_count": 12,
     "metadata": {},
     "output_type": "execute_result"
    }
   ],
   "source": [
    "function solve_state!(Z::Array{Float64,2}, U::Array{Float64,2}, p::parameters)\n",
    "    nT = p.nT\n",
    "    nX = p.nX\n",
    "    dt = p.dt\n",
    "    dx = p.dx\n",
    "    theta = p.theta\n",
    "    B = p.B\n",
    "    G = p.G\n",
    "    H = p.H\n",
    "    r = p.r \n",
    "    \n",
    "    # time step i\n",
    "    iflag = 0\n",
    "    idebg = 0 \n",
    "    \n",
    "    # compute y(:,i+1) using Newton's method\n",
    "    tol      = 1.e-2*min(dt^2,dx^2)\n",
    "    max_iter = 10\n",
    "    \n",
    "    # initial time\n",
    "    rhs = zeros(nX-1)\n",
    "    nX2 = Int(floor(nX/2))\n",
    "    rhs[1:nX2] = ones(nX2)\n",
    "    U[:,1] = rhs\n",
    "    \n",
    "    for i = 1:nT\n",
    "        # initial guess \n",
    "        U[:,i+1] = U[:,i]\n",
    "      \n",
    "        # Residual (res0 is the residual component that is independent of y(:,i+1))\n",
    "        res0 = H*U[:,i] + theta*dt*Nu(U[:,i]) + theta*dt*(B*(Z[:,i] + Z[:,i+1])) - theta*dt*(r[:,i] + r[:,i+1])\n",
    "        res  = res0 + G*U[:,i+1] + theta*dt*Nu(U[:,i+1])\n",
    "    \n",
    "        iter = 0\n",
    "    \n",
    "        if( idebg > 0 )\n",
    "            println(\"   time step    Newton iter   Residual    Step size\")\n",
    "        end\n",
    "      \n",
    "        while (iter < max_iter && norm(res) >= tol )\n",
    "      \n",
    "            resnorm = norm(res);\n",
    "            if( idebg > 0 )\n",
    "                if( iter == 0 )\n",
    "                    println([ i    iter     resnorm ])\n",
    "                else\n",
    "                    println([ i    iter     resnorm  stepsize ])\n",
    "                end\n",
    "            end\n",
    "           \n",
    "        \n",
    "            # Jacobian\n",
    "            Mat = G + theta*dt*Nu_deriv(U[:,i+1])\n",
    "           \n",
    "            # Newton step\n",
    "            stepU = -Mat\\res\n",
    "           \n",
    "            # Compue new guess using Armijo rule\n",
    "            stepsize = 1         # step size\n",
    "            U_tmp     = U[:,i+1] + stepsize*stepU\n",
    "            res      = res0 + G*U_tmp + theta*dt*Nu(U_tmp)\n",
    "           \n",
    "            while ( norm(res) >= (1-1.e-4*stepsize)*resnorm )\n",
    "                stepsize = stepsize/2\n",
    "                U_tmp     = U[:,i+1] + stepsize*stepU\n",
    "                res      = res0 + G*U_tmp + theta*dt*Nu(U_tmp)\n",
    "            end\n",
    "            U[:,i+1] = U_tmp\n",
    "           \n",
    "            iter = iter+1\n",
    "        end\n",
    "    end\n",
    "end "
   ]
  },
  {
   "cell_type": "code",
   "execution_count": 5,
   "metadata": {},
   "outputs": [
    {
     "data": {
      "text/plain": [
       "evaluate_objective (generic function with 1 method)"
      ]
     },
     "execution_count": 5,
     "metadata": {},
     "output_type": "execute_result"
    }
   ],
   "source": [
    "function evaluate_objective(Z::Array{Float64,2}, U::Array{Float64,2}, p::parameters)\n",
    "    dt = p.dt   # length of time interval\n",
    "    dx = p.dx   # length of spatial interval\n",
    "    nT = p.nT       # number of time intervals\n",
    "    nX = p.nX       # number of spatial intervals\n",
    "    omega = p.omega    # conTrol penalty\n",
    "    M = p.M\n",
    "    g = p.g\n",
    "    Q = p.Q\n",
    "    \n",
    "    val = (1/2)*(U[:,1]'*M*U[:,1]) + U[:,1]'*g[:,1] + (omega/2)*(Z[:,1]'*Q*Z[:,1])\n",
    "    \n",
    "    for i = 2:nT\n",
    "        val += U[:,i]'*M*U[:,i] + 2*(U[:,i]'*g[:,i]) + omega*(Z[:,i]'*Q*Z[:,i])\n",
    "    end\n",
    "    \n",
    "    val += (1/2)*(U[:,nT+1]'*M*U[:,nT+1]) + U[:,nT+1]'*g[:,nT+1] + (omega/2)*(Z[:,nT+1]'*Q*Z[:,nT+1])\n",
    "\n",
    "    val = 0.5*dt*val\n",
    "    \n",
    "    return val[1]\n",
    "end "
   ]
  },
  {
   "cell_type": "code",
   "execution_count": 14,
   "metadata": {},
   "outputs": [
    {
     "data": {
      "text/plain": [
       "evaluate_gradient! (generic function with 1 method)"
      ]
     },
     "execution_count": 14,
     "metadata": {},
     "output_type": "execute_result"
    }
   ],
   "source": [
    "function evaluate_gradient!(Z::Array{Float64,2}, U::Array{Float64,2}, grad::Array{Float64,2}, p::parameters)\n",
    "    nT = p.nT\n",
    "    nX = p.nX\n",
    "    nU = p.nU\n",
    "    nZ = p.nZ\n",
    "    dt = p.dt\n",
    "    omega = p.omega\n",
    "    theta = p.theta\n",
    "    \n",
    "    M = p.M\n",
    "    Q = p.Q\n",
    "    G = p.G\n",
    "    H = p.H\n",
    "    g = p.g\n",
    "    Bt   = p.B'\n",
    "    \n",
    "    L2 = zeros(nU) # adjoint at i+1\n",
    "    L1 = zeros(nU) # adjoint at i\n",
    "    \n",
    "    Mat = G + theta*dt*Nu_deriv(U[:,nT+1])\n",
    "    rhs = -theta*dt*( M*U[:,nT+1] + g[:,nT+1] )\n",
    "    L2 = Mat'\\rhs\n",
    "    \n",
    "    grad[:,nT+1] = theta * dt* ( omega*Q*Z[:,nT+1] + Bt*L2 )\n",
    "\n",
    "    \n",
    "    for i in nT:-1:2\n",
    "        Mat = G + theta*dt*Nu_deriv(U[:,i])\n",
    "        rhs = -( H + theta*dt*Nu_deriv(U[:,i]) )'*L2 - dt*( M*U[:,i] + g[:,i] )\n",
    "        L1  = Mat'\\rhs\n",
    "        \n",
    "        grad[:,i] = dt * ( omega*Q*Z[:,i] + theta*Bt*(L1 + L2) )\n",
    "        \n",
    "        L2 = L1\n",
    "    end\n",
    "    \n",
    "    grad[:,1] = theta*dt*( omega*Q*Z[:,1] + Bt*L2)\n",
    "end "
   ]
  },
  {
   "cell_type": "code",
   "execution_count": 38,
   "metadata": {},
   "outputs": [
    {
     "data": {
      "text/plain": [
       "minimize (generic function with 1 method)"
      ]
     },
     "execution_count": 38,
     "metadata": {},
     "output_type": "execute_result"
    }
   ],
   "source": [
    "function minimize(z0::Array{Float64,2}, p::parameters)\n",
    "    step_size = 1.0\n",
    "    tol = 1e-3\n",
    "    \n",
    "    z = z0\n",
    "    val = 0.0\n",
    "    U = zeros(p.nU,p.nT+1)\n",
    "    grad = zeros(p.nZ,p.nT+1)\n",
    "    \n",
    "    α = 1 # α ∈ (0,0.5)\n",
    "    β = 0.9  # β ∈ (0,1)\n",
    "\n",
    "    \n",
    "    values = []\n",
    "    max_iter = 1000\n",
    "    \n",
    "    for i in 1:max_iter\n",
    "        # solve state equation at current z\n",
    "        #println(\"Solving State\")\n",
    "        solve_state!(z,U,p)\n",
    "        \n",
    "        # evaluate objective at current z\n",
    "        #println(\"Evaluating objective\")\n",
    "        val = evaluate_objective(z,U,p)\n",
    "        push!(values,val)\n",
    "        \n",
    "        # evaluate gradient at current z\n",
    "        #println(\"Evaluating Gradient\")\n",
    "        evaluate_gradient!(z,U,grad,p)\n",
    "           \n",
    "        if(i%100 == 0)\n",
    "            println(\"Iteration $i\")\n",
    "            println(\"current obj is - $val\")\n",
    "        end \n",
    "        \n",
    "        #println(\"Performing Backtracking Line Search\")\n",
    "        # backtracking LS        \n",
    "        t = 10\n",
    "        # t = 1e4/(max_iter)\n",
    "        z = z - t*grad\n",
    "        \n",
    "        solve_state!(z,U,p)\n",
    "        obj = evaluate_objective(z,U,p)\n",
    "        \n",
    "        s = p.dt*ones(p.nT+1)\n",
    "        s[1] /= 2\n",
    "        s[p.nT+1] /= 2\n",
    "        S = inv(Diagonal(s))\n",
    "        \n",
    "        iter = 1\n",
    "        max_b = 10\n",
    "        rhs = val - α*t*dot(grad,grad*S)\n",
    "        \n",
    "        \n",
    "        while( obj > rhs )\n",
    "            if(iter > max_b)\n",
    "                break\n",
    "            end \n",
    "            t = β*t\n",
    "            z = z - t*grad\n",
    "            solve_state!(z,U,p)\n",
    "            obj = evaluate_objective(z,U,p)\n",
    "            rhs = val - α*t*dot(grad,grad*S)\n",
    "            iter += 1\n",
    "        end\n",
    "        #println(\"End of Iteration $i\")\n",
    "    end\n",
    "    \n",
    "    solve_state!(z,U,p)\n",
    "    val = evaluate_objective(z,U,p)\n",
    "    return z, U, val, values\n",
    "end   "
   ]
  },
  {
   "cell_type": "code",
   "execution_count": null,
   "metadata": {},
   "outputs": [
    {
     "name": "stdout",
     "output_type": "stream",
     "text": [
      "Iteration 100\n",
      "current obj is - -0.10839979103000318\n",
      "Iteration 200\n",
      "current obj is - -0.10865421453260851\n"
     ]
    }
   ],
   "source": [
    "p1 = parameters(250,500)\n",
    "z01 = zeros(p1.nZ,p1.nT+1)*1e-4\n",
    "\n",
    "\n",
    "z1,U1,val1,values1 = minimize(z01,p1)"
   ]
  },
  {
   "cell_type": "code",
   "execution_count": 33,
   "metadata": {},
   "outputs": [
    {
     "ename": "LoadError",
     "evalue": "\u001b[91mUndefVarError: nT not defined\u001b[39m",
     "output_type": "error",
     "traceback": [
      "\u001b[91mUndefVarError: nT not defined\u001b[39m",
      "",
      "Stacktrace:",
      " [1] \u001b[1mminimize\u001b[22m\u001b[22m\u001b[1m(\u001b[22m\u001b[22m::Array{Float64,2}, ::parameters\u001b[1m)\u001b[22m\u001b[22m at \u001b[1m.\\In[31]:45\u001b[22m\u001b[22m",
      " [2] \u001b[1minclude_string\u001b[22m\u001b[22m\u001b[1m(\u001b[22m\u001b[22m::String, ::String\u001b[1m)\u001b[22m\u001b[22m at \u001b[1m.\\loading.jl:515\u001b[22m\u001b[22m"
     ]
    }
   ],
   "source": [
    "p2 = parameters(1000,1200)\n",
    "z02 = zeros(p2.nZ,p2.nT+1)*1e-4\n",
    "\n",
    "\n",
    "z2,U2,val2,values2 = minimize(z02,p2)"
   ]
  },
  {
   "cell_type": "code",
   "execution_count": 25,
   "metadata": {},
   "outputs": [
    {
     "data": {
      "text/plain": [
       "2-element Array{Any,1}:\n",
       " -0.155227\n",
       " -0.166689"
      ]
     },
     "execution_count": 25,
     "metadata": {},
     "output_type": "execute_result"
    }
   ],
   "source": [
    "values1"
   ]
  },
  {
   "cell_type": "code",
   "execution_count": null,
   "metadata": {
    "collapsed": true
   },
   "outputs": [],
   "source": [
    "norms1[500]"
   ]
  },
  {
   "cell_type": "code",
   "execution_count": null,
   "metadata": {
    "collapsed": true
   },
   "outputs": [],
   "source": [
    "using Plots,PyPlot"
   ]
  },
  {
   "cell_type": "code",
   "execution_count": null,
   "metadata": {
    "collapsed": true
   },
   "outputs": [],
   "source": [
    "x = linspace(0,1,p1.nX); y = hcat(U1[:,150],p1.w[:,150])\n",
    "pl = PyPlot.plot(x,y)"
   ]
  },
  {
   "cell_type": "code",
   "execution_count": null,
   "metadata": {
    "collapsed": true
   },
   "outputs": [],
   "source": [
    "size(values1)"
   ]
  },
  {
   "cell_type": "code",
   "execution_count": null,
   "metadata": {
    "collapsed": true
   },
   "outputs": [],
   "source": [
    "x = collect(1:1000)\n",
    "y = values1-ones(1000)\n",
    "PyPlot.plot(x,y)"
   ]
  },
  {
   "cell_type": "code",
   "execution_count": null,
   "metadata": {
    "collapsed": true
   },
   "outputs": [],
   "source": [
    "t = linspace(0,1,p1.nT); y = z1'\n",
    "PyPlot.plot(t,y)"
   ]
  },
  {
   "cell_type": "code",
   "execution_count": 34,
   "metadata": {
    "collapsed": true
   },
   "outputs": [],
   "source": [
    "using JLD\n",
    "D1 = values1;\n",
    "save(\"Burger-values1.jld\", \"data\", D1)\n",
    "save(\"Burger-state1.jld\", \"data\", U1)\n",
    "save(\"Burger-control1.jld\", \"data\", z1)\n"
   ]
  },
  {
   "cell_type": "code",
   "execution_count": null,
   "metadata": {
    "collapsed": true
   },
   "outputs": [],
   "source": [
    "p2 = parameters(1000,1200)\n",
    "z02 = zeros(2,p2.nT)*1e-4\n",
    "\n",
    "\n",
    "z2,U2,val2,values2 = minimize(z02,p2)"
   ]
  },
  {
   "cell_type": "code",
   "execution_count": 35,
   "metadata": {
    "collapsed": true
   },
   "outputs": [],
   "source": [
    "D2 = values2;\n",
    "save(\"Burger-values2.jld\", \"data\", D2)\n",
    "save(\"Burger-state2.jld\", \"data\", U2)\n",
    "save(\"Burger-control2.jld\", \"data\", z2)"
   ]
  },
  {
   "cell_type": "code",
   "execution_count": null,
   "metadata": {
    "collapsed": true
   },
   "outputs": [],
   "source": []
  }
 ],
 "metadata": {
  "anaconda-cloud": {},
  "kernelspec": {
   "display_name": "Julia 0.6.0",
   "language": "julia",
   "name": "julia-0.6"
  },
  "language_info": {
   "file_extension": ".jl",
   "mimetype": "application/julia",
   "name": "julia",
   "version": "0.6.0"
  }
 },
 "nbformat": 4,
 "nbformat_minor": 1
}
