{
 "cells": [
  {
   "cell_type": "code",
   "execution_count": 3,
   "metadata": {
    "collapsed": true
   },
   "outputs": [],
   "source": [
    "type parameters\n",
    "    # Parameters.\n",
    "    nX :: Int # Number of spatial mesh points\n",
    "    nT :: Int # Number of timesteps\n",
    "    theta :: Float64 # time-stepping parameter\n",
    "    gamma :: Float64 # Robin's coefficient\n",
    "    alpha :: Float64 # Control Penalty \n",
    "    \n",
    "    dx :: Float64 # Difference between any two mesh nodes, (= h)\n",
    "    x :: Array{Float64,1} # Mesh nodes. \n",
    "    dt :: Float64 # Difference between any two time steps\n",
    "    t :: Array{Float64,1} # Time steps \n",
    "    \n",
    "    u0 :: Array{Float64,1} # State at time 0.\n",
    "    \n",
    "    z0 :: Array{Float64,2} # Initial guess for Control\n",
    "    \n",
    "    w :: Array{Float64,2} # Desired state.\n",
    "    \n",
    "    M :: SymTridiagonal{Float64} # Mass Matrix\n",
    "    A :: SymTridiagonal{Float64} # Stiffness Matrix \n",
    "    B :: SparseMatrixCSC{Float64,Int64} # Control Operator\n",
    "    R :: Array{Float64,2} # Control Penalty Matrix\n",
    "    \n",
    "    G :: SymTridiagonal{Float64} \n",
    "    H :: SymTridiagonal{Float64}\n",
    "    \n",
    "    function parameters(nX = 256, nT = Int(5e2), theta = 0.5, gamma = 1e-1, alpha = 1e-4)\n",
    "        dx = 1/(nX -1)\n",
    "        \n",
    "        x = Array(linspace(0,1,nX))\n",
    "        t = Array(linspace(0,1,nT))\n",
    "        \n",
    "        dt = 1/(nT -1) \n",
    "        \n",
    "        u0 = sin(pi*x)  \n",
    "    \n",
    "        z0 = zeros(2,nT)\n",
    "    \n",
    "        w = zeros(nX, nT)  \n",
    "\n",
    "        for i in 1:nT\n",
    "            w[:,i] = sin(2*pi*(t[i] + x))\n",
    "           # l = w[:,i]\n",
    "           # println(\"wi norm is $(norm(l)^2)\")\n",
    "        end \n",
    "        \n",
    "        M,A,B,R = buildFEM(nX,gamma)\n",
    "    \n",
    "        G = M + theta*dt*A\n",
    "        H = M - (1-theta)*dt*A\n",
    "        \n",
    "        new(nX,nT,theta,gamma,alpha,dx,x,dt,t,u0,z0,w,M,A,B,R,G,H)\n",
    "    end \n",
    "end "
   ]
  },
  {
   "cell_type": "code",
   "execution_count": 4,
   "metadata": {},
   "outputs": [
    {
     "data": {
      "text/plain": [
       "buildFEM (generic function with 1 method)"
      ]
     },
     "execution_count": 4,
     "metadata": {},
     "output_type": "execute_result"
    }
   ],
   "source": [
    "function buildFEM(n::Int, gamma::Float64)\n",
    "    h = 1/(n-1)\n",
    "\n",
    "    o = h/6*ones(n-1)\n",
    "    d = 4*h/6*ones(n)\n",
    "    d[1]   = 2*h/6\n",
    "    d[n] = 2*h/6\n",
    "    M = SymTridiagonal(d,o)\n",
    "    \n",
    "    o = -1/h*ones(n-1)\n",
    "    d = 2/h*ones(n)\n",
    "    d[1]   = 1/h + gamma\n",
    "    d[n] = 1/h + gamma\n",
    "    A = SymTridiagonal(d,o)\n",
    "\n",
    "    B = sparse([1,n],[1,2],[gamma,gamma])\n",
    "    \n",
    "    R = speye(2,2)\n",
    "    \n",
    "    return M,A,B,R\n",
    "end "
   ]
  },
  {
   "cell_type": "code",
   "execution_count": 5,
   "metadata": {},
   "outputs": [
    {
     "data": {
      "text/plain": [
       "solve_state! (generic function with 1 method)"
      ]
     },
     "execution_count": 5,
     "metadata": {},
     "output_type": "execute_result"
    }
   ],
   "source": [
    "function solve_state!(Z::Array{Float64,2}, U::Array{Float64,2}, p::parameters)\n",
    "    nT = p.nT\n",
    "    nX = p.nX\n",
    "    dt = p.dt\n",
    "    theta = p.theta\n",
    "\n",
    "    u0 = p.u0\n",
    "    \n",
    "    B = p.B\n",
    "    G = p.B\n",
    "    H = p.H\n",
    "    \n",
    "    lu = lufact(full(p.G))\n",
    "    \n",
    "    U[:,1] = u0\n",
    "    \n",
    "    for i in 1:nT-1\n",
    "        Y = H*U[:,i] + dt*B*( theta*Z[:,i+1] + (1-theta)*Z[:,i] ) \n",
    "        U[:,i+1] = lu\\Y\n",
    "    end\n",
    "end "
   ]
  },
  {
   "cell_type": "code",
   "execution_count": 6,
   "metadata": {},
   "outputs": [
    {
     "data": {
      "text/plain": [
       "evaluate_objective (generic function with 1 method)"
      ]
     },
     "execution_count": 6,
     "metadata": {},
     "output_type": "execute_result"
    }
   ],
   "source": [
    "function evaluate_objective(Z::Array{Float64,2}, U::Array{Float64,2}, p::parameters)\n",
    "    M  = p.M\n",
    "    R  = p.R\n",
    "    w  = p.w\n",
    "    nT = p.nT\n",
    "    nX = p.nX\n",
    "    alpha = p.alpha\n",
    "    theta = p.theta\n",
    "    dt = p.dt\n",
    "    diff = U-w\n",
    "    \n",
    "    #println(\"diff norm is $(norm(diff)^2)\\n\")\n",
    "    \n",
    "    val = (1-theta)*( diff[:,1]'*M*diff[:,1] + alpha*Z[:,1]'*R*Z[:,1] )\n",
    "    \n",
    "    val += theta*( diff[:,nT]'*M*diff[:,nT] + alpha*Z[:,nT]'*R*Z[:,nT] )\n",
    "    \n",
    "    for i in 2:nT-1\n",
    "        val += diff[:,i]'*M*diff[:,i] + alpha*Z[:,i]'*R*Z[:,i]\n",
    "    end\n",
    "    \n",
    "    val = 0.5*dt*val\n",
    "\n",
    "    return val[1]+1\n",
    "end "
   ]
  },
  {
   "cell_type": "code",
   "execution_count": 7,
   "metadata": {},
   "outputs": [
    {
     "data": {
      "text/plain": [
       "evaluate_gradient! (generic function with 1 method)"
      ]
     },
     "execution_count": 7,
     "metadata": {},
     "output_type": "execute_result"
    }
   ],
   "source": [
    "function evaluate_gradient!(Z::Array{Float64,2}, U::Array{Float64,2}, grad::Array{Float64,2}, p::parameters)\n",
    "    nT = p.nT\n",
    "    nX = p.nX\n",
    "    alpha = p.alpha\n",
    "    theta = p.theta\n",
    "    dt = p.dt\n",
    "    \n",
    "    w  = p.w\n",
    "    diff = U-w\n",
    "    \n",
    "    M  = p.M\n",
    "    R  = p.R\n",
    "    H = p.H\n",
    "    Bt   = p.B'\n",
    "   \n",
    "    lu = lufact(sparse(p.G))\n",
    "  \n",
    "    L2 = zeros(nX)# adjoint at i+1\n",
    "    L1 = zeros(nX)# adjoint at i\n",
    "    \n",
    "    L2 = lu\\ (-theta*dt*M*diff[:,nT]);\n",
    "    \n",
    "    grad[:,nT] = theta * dt * ( alpha*R*Z[:,nT] - Bt*L2 );\n",
    " \n",
    "    for i in nT-1:-1:1\n",
    "        L1 = lu\\(H*L2 - dt*M*diff[:,i]);\n",
    "        grad[:,i] = dt * ( alpha*R*Z[:,i] - ( (1-theta)*Bt*L1 + theta*Bt*L2 ) );\n",
    "        L2 = L1\n",
    "    end\n",
    "    \n",
    "    L1 = lu\\(H*L2 - (1-theta)*dt*diff[:,1])\n",
    "    grad[:,1] = (1-theta) * dt * ( alpha*R*Z[:,1] - Bt*L1 );\n",
    "end "
   ]
  },
  {
   "cell_type": "code",
   "execution_count": 9,
   "metadata": {},
   "outputs": [
    {
     "data": {
      "text/plain": [
       "minimize (generic function with 1 method)"
      ]
     },
     "execution_count": 9,
     "metadata": {},
     "output_type": "execute_result"
    }
   ],
   "source": [
    "function minimize(z0::Array{Float64,2}, p::parameters)\n",
    "    step_size = 1.0\n",
    "    tol = 1e-3\n",
    "    \n",
    "    z = z0\n",
    "    val = 0.0\n",
    "    U = zeros(p.nX,p.nT)\n",
    "    grad = zeros(2,p.nT)\n",
    "    \n",
    "    α = 1 # α ∈ (0,0.5)\n",
    "    β = 0.9  # β ∈ (0,1)\n",
    "\n",
    "    \n",
    "    values = []\n",
    "    max_iter = 1000\n",
    "    \n",
    "    for i in 1:max_iter\n",
    "        # solve state equation at current z\n",
    "        solve_state!(z,U,p)\n",
    "        \n",
    "        # evaluate objective at current z\n",
    "        val = evaluate_objective(z,U,p)\n",
    "        push!(values,val)\n",
    "        \n",
    "        # evaluate gradient at current z\n",
    "        evaluate_gradient!(z,U,grad,p)\n",
    "           \n",
    "        if(i%100 == 0)\n",
    "            println(\"Iteration $i\")\n",
    "            println(\"current obj is - $val\")\n",
    "        end \n",
    "        \n",
    "        # backtracking LS        \n",
    "        t = 100\n",
    "        # t = 1e4/(max_iter)\n",
    "        z = z - t*grad\n",
    "        \n",
    "        solve_state!(z,U,p)\n",
    "        obj = evaluate_objective(z,U,p)\n",
    "        \n",
    "        s = p.dt*ones(p.nT)\n",
    "        s[1] /= 2\n",
    "        s[p.nT] /= 2\n",
    "        S = inv(Diagonal(s))\n",
    "                \n",
    "        iter = 1\n",
    "        max_b = 10\n",
    "        rhs = val - α*t*dot(grad,grad*S)\n",
    "        \n",
    "        \n",
    "        while( obj > rhs )\n",
    "            if(iter > max_b)\n",
    "                break\n",
    "            end \n",
    "            t = β*t\n",
    "            z = z - t*grad\n",
    "            solve_state!(z,U,p)\n",
    "            obj = evaluate_objective(z,U,p)\n",
    "            rhs = val - α*t*dot(grad,grad*S)\n",
    "            iter += 1\n",
    "        end\n",
    "    end\n",
    "    \n",
    "    solve_state!(z,U,p)\n",
    "    val = evaluate_objective(z,U,p)\n",
    "    return z, U, val, values\n",
    "end   "
   ]
  },
  {
   "cell_type": "code",
   "execution_count": 10,
   "metadata": {},
   "outputs": [
    {
     "name": "stderr",
     "output_type": "stream",
     "text": [
      "\u001b[1m\u001b[33mWARNING: \u001b[39m\u001b[22m\u001b[33msin{T <: Number}(x::AbstractArray{T}) is deprecated, use sin.(x) instead.\u001b[39m\n",
      "Stacktrace:\n",
      " [1] \u001b[1mdepwarn\u001b[22m\u001b[22m\u001b[1m(\u001b[22m\u001b[22m::String, ::Symbol\u001b[1m)\u001b[22m\u001b[22m at \u001b[1m.\\deprecated.jl:70\u001b[22m\u001b[22m\n",
      " [2] \u001b[1msin\u001b[22m\u001b[22m\u001b[1m(\u001b[22m\u001b[22m::Array{Float64,1}\u001b[1m)\u001b[22m\u001b[22m at \u001b[1m.\\deprecated.jl:57\u001b[22m\u001b[22m\n",
      " [3] \u001b[1mparameters\u001b[22m\u001b[22m\u001b[1m(\u001b[22m\u001b[22m::Int64, ::Int64, ::Float64, ::Float64, ::Float64\u001b[1m)\u001b[22m\u001b[22m at \u001b[1m.\\In[3]:36\u001b[22m\u001b[22m\n",
      " [4] \u001b[1mparameters\u001b[22m\u001b[22m\u001b[1m(\u001b[22m\u001b[22m::Int64, ::Int64\u001b[1m)\u001b[22m\u001b[22m at \u001b[1m.\\In[3]:29\u001b[22m\u001b[22m\n",
      " [5] \u001b[1minclude_string\u001b[22m\u001b[22m\u001b[1m(\u001b[22m\u001b[22m::String, ::String\u001b[1m)\u001b[22m\u001b[22m at \u001b[1m.\\loading.jl:515\u001b[22m\u001b[22m\n",
      " [6] \u001b[1minclude_string\u001b[22m\u001b[22m\u001b[1m(\u001b[22m\u001b[22m::Module, ::String, ::String\u001b[1m)\u001b[22m\u001b[22m at \u001b[1mC:\\Users\\rm949\\.julia\\v0.6\\Compat\\src\\Compat.jl:478\u001b[22m\u001b[22m\n",
      " [7] \u001b[1mexecute_request\u001b[22m\u001b[22m\u001b[1m(\u001b[22m\u001b[22m::ZMQ.Socket, ::IJulia.Msg\u001b[1m)\u001b[22m\u001b[22m at \u001b[1mC:\\Users\\rm949\\.julia\\v0.6\\IJulia\\src\\execute_request.jl:154\u001b[22m\u001b[22m\n",
      " [8] \u001b[1meventloop\u001b[22m\u001b[22m\u001b[1m(\u001b[22m\u001b[22m::ZMQ.Socket\u001b[1m)\u001b[22m\u001b[22m at \u001b[1mC:\\Users\\rm949\\.julia\\v0.6\\IJulia\\src\\eventloop.jl:8\u001b[22m\u001b[22m\n",
      " [9] \u001b[1m(::IJulia.##14#17)\u001b[22m\u001b[22m\u001b[1m(\u001b[22m\u001b[22m\u001b[1m)\u001b[22m\u001b[22m at \u001b[1m.\\task.jl:335\u001b[22m\u001b[22m\n",
      "while loading In[10], in expression starting on line 1\n",
      "\u001b[1m\u001b[33mWARNING: \u001b[39m\u001b[22m\u001b[33msin{T <: Number}(x::AbstractArray{T}) is deprecated, use sin.(x) instead.\u001b[39m\n",
      "Stacktrace:\n",
      " [1] \u001b[1mdepwarn\u001b[22m\u001b[22m\u001b[1m(\u001b[22m\u001b[22m::String, ::Symbol\u001b[1m)\u001b[22m\u001b[22m at \u001b[1m.\\deprecated.jl:70\u001b[22m\u001b[22m\n",
      " [2] \u001b[1msin\u001b[22m\u001b[22m\u001b[1m(\u001b[22m\u001b[22m::Array{Float64,1}\u001b[1m)\u001b[22m\u001b[22m at \u001b[1m.\\deprecated.jl:57\u001b[22m\u001b[22m\n",
      " [3] \u001b[1mparameters\u001b[22m\u001b[22m\u001b[1m(\u001b[22m\u001b[22m::Int64, ::Int64, ::Float64, ::Float64, ::Float64\u001b[1m)\u001b[22m\u001b[22m at \u001b[1m.\\In[3]:43\u001b[22m\u001b[22m\n",
      " [4] \u001b[1mparameters\u001b[22m\u001b[22m\u001b[1m(\u001b[22m\u001b[22m::Int64, ::Int64\u001b[1m)\u001b[22m\u001b[22m at \u001b[1m.\\In[3]:29\u001b[22m\u001b[22m\n",
      " [5] \u001b[1minclude_string\u001b[22m\u001b[22m\u001b[1m(\u001b[22m\u001b[22m::String, ::String\u001b[1m)\u001b[22m\u001b[22m at \u001b[1m.\\loading.jl:515\u001b[22m\u001b[22m\n",
      " [6] \u001b[1minclude_string\u001b[22m\u001b[22m\u001b[1m(\u001b[22m\u001b[22m::Module, ::String, ::String\u001b[1m)\u001b[22m\u001b[22m at \u001b[1mC:\\Users\\rm949\\.julia\\v0.6\\Compat\\src\\Compat.jl:478\u001b[22m\u001b[22m\n",
      " [7] \u001b[1mexecute_request\u001b[22m\u001b[22m\u001b[1m(\u001b[22m\u001b[22m::ZMQ.Socket, ::IJulia.Msg\u001b[1m)\u001b[22m\u001b[22m at \u001b[1mC:\\Users\\rm949\\.julia\\v0.6\\IJulia\\src\\execute_request.jl:154\u001b[22m\u001b[22m\n",
      " [8] \u001b[1meventloop\u001b[22m\u001b[22m\u001b[1m(\u001b[22m\u001b[22m::ZMQ.Socket\u001b[1m)\u001b[22m\u001b[22m at \u001b[1mC:\\Users\\rm949\\.julia\\v0.6\\IJulia\\src\\eventloop.jl:8\u001b[22m\u001b[22m\n",
      " [9] \u001b[1m(::IJulia.##14#17)\u001b[22m\u001b[22m\u001b[1m(\u001b[22m\u001b[22m\u001b[1m)\u001b[22m\u001b[22m at \u001b[1m.\\task.jl:335\u001b[22m\u001b[22m\n",
      "while loading In[10], in expression starting on line 1\n"
     ]
    },
    {
     "name": "stdout",
     "output_type": "stream",
     "text": [
      "Iteration 100\n",
      "current obj is - 1.309056974943898\n",
      "Iteration 200\n",
      "current obj is - 1.2863246849010315\n",
      "Iteration 300\n",
      "current obj is - 1.278085534120308\n",
      "Iteration 400\n",
      "current obj is - 1.2726018650154356\n",
      "Iteration 500\n",
      "current obj is - 1.268005964225341\n",
      "Iteration 600\n",
      "current obj is - 1.263950129174586\n",
      "Iteration 700\n",
      "current obj is - 1.260329018935699\n",
      "Iteration 800\n",
      "current obj is - 1.2570825801293641\n",
      "Iteration 900\n",
      "current obj is - 1.254164399270745\n",
      "Iteration 1000\n",
      "current obj is - 1.2515356391397625\n"
     ]
    },
    {
     "data": {
      "text/plain": [
       "([-4.47773 -11.2825 … 0.0526252 0.0110694; -17.6239 -24.0947 … -0.0356295 -0.0060921], [0.0 0.146213 … 0.0281319 0.0260481; 0.0123197 0.141213 … 0.0288701 0.0252862; … ; 0.0123197 0.0690611 … -0.204165 -0.201366; 1.22465e-16 0.0645181 … -0.2045 -0.200913], 1.2515106967500793, Any[1.42014, 1.41777, 1.41545, 1.41316, 1.41092, 1.40872, 1.40656, 1.40444, 1.40236, 1.40031  …  1.25176, 1.25174, 1.25171, 1.25169, 1.25166, 1.25164, 1.25161, 1.25159, 1.25156, 1.25154])"
      ]
     },
     "execution_count": 10,
     "metadata": {},
     "output_type": "execute_result"
    }
   ],
   "source": [
    "p1 = parameters(256,502)\n",
    "z01 = zeros(2,p1.nT)*1e-4\n",
    "\n",
    "\n",
    "z1,U1,val1,values1 = minimize(z01,p1)"
   ]
  },
  {
   "cell_type": "code",
   "execution_count": 9,
   "metadata": {},
   "outputs": [
    {
     "data": {
      "text/plain": [
       "109.24738812643433"
      ]
     },
     "execution_count": 9,
     "metadata": {},
     "output_type": "execute_result"
    }
   ],
   "source": [
    "norms1[500]"
   ]
  },
  {
   "cell_type": "code",
   "execution_count": 13,
   "metadata": {
    "collapsed": true
   },
   "outputs": [],
   "source": [
    "using Plots,PyPlot"
   ]
  },
  {
   "cell_type": "code",
   "execution_count": 16,
   "metadata": {},
   "outputs": [
    {
     "data": {
      "image/png": "[encoded data removed]",
      "text/plain": [
       "PyPlot.Figure(PyObject <matplotlib.figure.Figure object at 0x000000003B066E10>)"
      ]
     },
     "metadata": {},
     "output_type": "display_data"
    },
    {
     "data": {
      "text/plain": [
       "2-element Array{PyCall.PyObject,1}:\n",
       " PyObject <matplotlib.lines.Line2D object at 0x0000000036985DD8>\n",
       " PyObject <matplotlib.lines.Line2D object at 0x0000000036985EB8>"
      ]
     },
     "execution_count": 16,
     "metadata": {},
     "output_type": "execute_result"
    }
   ],
   "source": [
    "x = linspace(0,1,p1.nX); y = hcat(U1[:,150],p1.w[:,150])\n",
    "pl = PyPlot.plot(x,y)"
   ]
  },
  {
   "cell_type": "code",
   "execution_count": 12,
   "metadata": {},
   "outputs": [
    {
     "data": {
      "text/plain": [
       "(1000,)"
      ]
     },
     "execution_count": 12,
     "metadata": {},
     "output_type": "execute_result"
    }
   ],
   "source": [
    "size(values1)"
   ]
  },
  {
   "cell_type": "code",
   "execution_count": 18,
   "metadata": {},
   "outputs": [
    {
     "data": {
      "image/png": "[encoded data removed]",
      "text/plain": [
       "PyPlot.Figure(PyObject <matplotlib.figure.Figure object at 0x0000000036AD9DD8>)"
      ]
     },
     "metadata": {},
     "output_type": "display_data"
    },
    {
     "data": {
      "text/plain": [
       "1-element Array{PyCall.PyObject,1}:\n",
       " PyObject <matplotlib.lines.Line2D object at 0x0000000036C9B128>"
      ]
     },
     "execution_count": 18,
     "metadata": {},
     "output_type": "execute_result"
    }
   ],
   "source": [
    "x = collect(1:1000)\n",
    "y = values1-ones(1000)\n",
    "PyPlot.plot(x,y)"
   ]
  },
  {
   "cell_type": "code",
   "execution_count": 19,
   "metadata": {},
   "outputs": [
    {
     "data": {
      "image/png": "[encoded data removed]",
      "text/plain": [
       "PyPlot.Figure(PyObject <matplotlib.figure.Figure object at 0x0000000036D58C50>)"
      ]
     },
     "metadata": {},
     "output_type": "display_data"
    },
    {
     "data": {
      "text/plain": [
       "2-element Array{PyCall.PyObject,1}:\n",
       " PyObject <matplotlib.lines.Line2D object at 0x0000000036EF9358>\n",
       " PyObject <matplotlib.lines.Line2D object at 0x0000000036EF9400>"
      ]
     },
     "execution_count": 19,
     "metadata": {},
     "output_type": "execute_result"
    }
   ],
   "source": [
    "t = linspace(0,1,p1.nT); y = z1'\n",
    "PyPlot.plot(t,y)"
   ]
  },
  {
   "cell_type": "code",
   "execution_count": 11,
   "metadata": {
    "collapsed": true
   },
   "outputs": [],
   "source": [
    "using JLD\n",
    "D1 = values1 - ones(1000);\n",
    "save(\"values1.jld\", \"data\", D1)\n",
    "save(\"state1.jld\", \"data\", U1)\n",
    "save(\"control1.jld\", \"data\", z1)\n",
    "z1,U1,val1,values1"
   ]
  },
  {
   "cell_type": "code",
   "execution_count": 12,
   "metadata": {},
   "outputs": [
    {
     "name": "stderr",
     "output_type": "stream",
     "text": [
      "\u001b[1m\u001b[33mWARNING: \u001b[39m\u001b[22m\u001b[33msin{T <: Number}(x::AbstractArray{T}) is deprecated, use sin.(x) instead.\u001b[39m\n",
      "Stacktrace:\n",
      " [1] \u001b[1mdepwarn\u001b[22m\u001b[22m\u001b[1m(\u001b[22m\u001b[22m::String, ::Symbol\u001b[1m)\u001b[22m\u001b[22m at \u001b[1m.\\deprecated.jl:70\u001b[22m\u001b[22m\n",
      " [2] \u001b[1msin\u001b[22m\u001b[22m\u001b[1m(\u001b[22m\u001b[22m::Array{Float64,1}\u001b[1m)\u001b[22m\u001b[22m at \u001b[1m.\\deprecated.jl:57\u001b[22m\u001b[22m\n",
      " [3] \u001b[1mparameters\u001b[22m\u001b[22m\u001b[1m(\u001b[22m\u001b[22m::Int64, ::Int64, ::Float64, ::Float64, ::Float64\u001b[1m)\u001b[22m\u001b[22m at \u001b[1m.\\In[3]:36\u001b[22m\u001b[22m\n",
      " [4] \u001b[1mparameters\u001b[22m\u001b[22m\u001b[1m(\u001b[22m\u001b[22m::Int64, ::Int64\u001b[1m)\u001b[22m\u001b[22m at \u001b[1m.\\In[3]:29\u001b[22m\u001b[22m\n",
      " [5] \u001b[1minclude_string\u001b[22m\u001b[22m\u001b[1m(\u001b[22m\u001b[22m::String, ::String\u001b[1m)\u001b[22m\u001b[22m at \u001b[1m.\\loading.jl:515\u001b[22m\u001b[22m\n",
      " [6] \u001b[1minclude_string\u001b[22m\u001b[22m\u001b[1m(\u001b[22m\u001b[22m::Module, ::String, ::String\u001b[1m)\u001b[22m\u001b[22m at \u001b[1mC:\\Users\\rm949\\.julia\\v0.6\\Compat\\src\\Compat.jl:478\u001b[22m\u001b[22m\n",
      " [7] \u001b[1mexecute_request\u001b[22m\u001b[22m\u001b[1m(\u001b[22m\u001b[22m::ZMQ.Socket, ::IJulia.Msg\u001b[1m)\u001b[22m\u001b[22m at \u001b[1mC:\\Users\\rm949\\.julia\\v0.6\\IJulia\\src\\execute_request.jl:154\u001b[22m\u001b[22m\n",
      " [8] \u001b[1meventloop\u001b[22m\u001b[22m\u001b[1m(\u001b[22m\u001b[22m::ZMQ.Socket\u001b[1m)\u001b[22m\u001b[22m at \u001b[1mC:\\Users\\rm949\\.julia\\v0.6\\IJulia\\src\\eventloop.jl:8\u001b[22m\u001b[22m\n",
      " [9] \u001b[1m(::IJulia.##14#17)\u001b[22m\u001b[22m\u001b[1m(\u001b[22m\u001b[22m\u001b[1m)\u001b[22m\u001b[22m at \u001b[1m.\\task.jl:335\u001b[22m\u001b[22m\n",
      "while loading In[12], in expression starting on line 1\n",
      "\u001b[1m\u001b[33mWARNING: \u001b[39m\u001b[22m\u001b[33msin{T <: Number}(x::AbstractArray{T}) is deprecated, use sin.(x) instead.\u001b[39m\n",
      "Stacktrace:\n",
      " [1] \u001b[1mdepwarn\u001b[22m\u001b[22m\u001b[1m(\u001b[22m\u001b[22m::String, ::Symbol\u001b[1m)\u001b[22m\u001b[22m at \u001b[1m.\\deprecated.jl:70\u001b[22m\u001b[22m\n",
      " [2] \u001b[1msin\u001b[22m\u001b[22m\u001b[1m(\u001b[22m\u001b[22m::Array{Float64,1}\u001b[1m)\u001b[22m\u001b[22m at \u001b[1m.\\deprecated.jl:57\u001b[22m\u001b[22m\n",
      " [3] \u001b[1mparameters\u001b[22m\u001b[22m\u001b[1m(\u001b[22m\u001b[22m::Int64, ::Int64, ::Float64, ::Float64, ::Float64\u001b[1m)\u001b[22m\u001b[22m at \u001b[1m.\\In[3]:43\u001b[22m\u001b[22m\n",
      " [4] \u001b[1mparameters\u001b[22m\u001b[22m\u001b[1m(\u001b[22m\u001b[22m::Int64, ::Int64\u001b[1m)\u001b[22m\u001b[22m at \u001b[1m.\\In[3]:29\u001b[22m\u001b[22m\n",
      " [5] \u001b[1minclude_string\u001b[22m\u001b[22m\u001b[1m(\u001b[22m\u001b[22m::String, ::String\u001b[1m)\u001b[22m\u001b[22m at \u001b[1m.\\loading.jl:515\u001b[22m\u001b[22m\n",
      " [6] \u001b[1minclude_string\u001b[22m\u001b[22m\u001b[1m(\u001b[22m\u001b[22m::Module, ::String, ::String\u001b[1m)\u001b[22m\u001b[22m at \u001b[1mC:\\Users\\rm949\\.julia\\v0.6\\Compat\\src\\Compat.jl:478\u001b[22m\u001b[22m\n",
      " [7] \u001b[1mexecute_request\u001b[22m\u001b[22m\u001b[1m(\u001b[22m\u001b[22m::ZMQ.Socket, ::IJulia.Msg\u001b[1m)\u001b[22m\u001b[22m at \u001b[1mC:\\Users\\rm949\\.julia\\v0.6\\IJulia\\src\\execute_request.jl:154\u001b[22m\u001b[22m\n",
      " [8] \u001b[1meventloop\u001b[22m\u001b[22m\u001b[1m(\u001b[22m\u001b[22m::ZMQ.Socket\u001b[1m)\u001b[22m\u001b[22m at \u001b[1mC:\\Users\\rm949\\.julia\\v0.6\\IJulia\\src\\eventloop.jl:8\u001b[22m\u001b[22m\n",
      " [9] \u001b[1m(::IJulia.##14#17)\u001b[22m\u001b[22m\u001b[1m(\u001b[22m\u001b[22m\u001b[1m)\u001b[22m\u001b[22m at \u001b[1m.\\task.jl:335\u001b[22m\u001b[22m\n",
      "while loading In[12], in expression starting on line 1\n"
     ]
    },
    {
     "name": "stdout",
     "output_type": "stream",
     "text": [
      "Iteration 100\n",
      "current obj is - 1.3506683465859095\n",
      "Iteration 200\n",
      "current obj is - 1.3168845675100547\n",
      "Iteration 300\n",
      "current obj is - 1.2999538792542373\n",
      "Iteration 400\n",
      "current obj is - 1.2907995237307848\n",
      "Iteration 500\n",
      "current obj is - 1.2852700256032383\n",
      "Iteration 600\n",
      "current obj is - 1.2814642771426343\n",
      "Iteration 700\n",
      "current obj is - 1.2785095474612223\n",
      "Iteration 800\n",
      "current obj is - 1.2760032202281624\n",
      "Iteration 900\n",
      "current obj is - 1.2737577388762729\n",
      "Iteration 1000\n",
      "current obj is - 1.271684065770367\n"
     ]
    },
    {
     "data": {
      "text/plain": [
       "([-3.67534 -8.61106 … 0.00398914 0.000672592; -9.59167 -14.396 … -0.00797648 -0.0016508], [0.0 0.102473 … -0.0404087 -0.0401018; 0.00314473 0.10069 … -0.0397627 -0.0407565; … ; 0.00314473 0.0779864 … -0.147022 -0.146736; 1.22465e-16 0.0786292 … -0.14752 -0.14621], 1.2716640258384075, Any[1.42016, 1.41917, 1.41819, 1.41721, 1.41624, 1.41528, 1.41432, 1.41337, 1.41243, 1.4115  …  1.27186, 1.27184, 1.27182, 1.2718, 1.27178, 1.27176, 1.27174, 1.27172, 1.2717, 1.27168])"
      ]
     },
     "execution_count": 12,
     "metadata": {},
     "output_type": "execute_result"
    }
   ],
   "source": [
    "p2 = parameters(1000,1200)\n",
    "z02 = zeros(2,p2.nT)*1e-4\n",
    "\n",
    "\n",
    "z2,U2,val2,values2 = minimize(z02,p2)"
   ]
  },
  {
   "cell_type": "code",
   "execution_count": 13,
   "metadata": {
    "collapsed": true
   },
   "outputs": [],
   "source": [
    "D2 = values2 - ones(1000);\n",
    "save(\"values2.jld\", \"data\", D2)\n",
    "save(\"state2.jld\", \"data\", U2)\n",
    "save(\"control2.jld\", \"data\", z2)"
   ]
  },
  {
   "cell_type": "code",
   "execution_count": null,
   "metadata": {
    "collapsed": true
   },
   "outputs": [],
   "source": []
  }
 ],
 "metadata": {
  "anaconda-cloud": {},
  "kernelspec": {
   "display_name": "Julia 0.6.0",
   "language": "julia",
   "name": "julia-0.6"
  },
  "language_info": {
   "file_extension": ".jl",
   "mimetype": "application/julia",
   "name": "julia",
   "version": "0.6.0"
  }
 },
 "nbformat": 4,
 "nbformat_minor": 1
}
